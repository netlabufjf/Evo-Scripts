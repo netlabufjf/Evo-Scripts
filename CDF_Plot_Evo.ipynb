{
 "cells": [
  {
   "cell_type": "code",
   "execution_count": 11,
   "metadata": {
    "collapsed": true
   },
   "outputs": [],
   "source": [
    "%matplotlib inline\n",
    "import pandas as pd\n",
    "import urllib as ur\n",
    "import json\n",
    "import datetime\n",
    "import matplotlib.pyplot as plt\n",
    "import matplotlib\n",
    "import numpy as np"
   ]
  },
  {
   "cell_type": "markdown",
   "metadata": {},
   "source": [
    "## Coletando a duração de cada viagem."
   ]
  },
  {
   "cell_type": "code",
   "execution_count": 12,
   "metadata": {
    "collapsed": true
   },
   "outputs": [],
   "source": [
    "# Lendo csv de intervalos de ociosidade e ocupação\n",
    "dfOccupied = pd.read_csv('../travels.csv')\n",
    "dfParked = pd.read_csv('../parked.csv')"
   ]
  },
  {
   "cell_type": "code",
   "execution_count": 13,
   "metadata": {
    "collapsed": true
   },
   "outputs": [
    {
     "name": "stdout",
     "output_type": "stream",
     "text": [
      "2018-08-21 10:22:48.974080\n",
      "2018-08-21 10:22:48.974579\n"
     ]
    }
   ],
   "source": [
    "car_ids = list(dfOccupied.Id.unique())\n",
    "\n",
    "print(datetime.datetime.now())\n",
    "\n",
    "# Removing uncommon ids\n",
    "# Ex: 4c5865a3-4b03-40f6-a3a8-d4e94aae3b17\n",
    "car_ids = [id for id in car_ids if id.find('-') == -1]# Coletando os ids dos veículos\n",
    "\n",
    "print(datetime.datetime.now())"
   ]
  },
  {
   "cell_type": "code",
   "execution_count": 14,
   "metadata": {
    "collapsed": true
   },
   "outputs": [],
   "source": [
    "def Hour_Diff(h1,h2):\n",
    "    \"\"\"\n",
    "    Faz a diferença entre duas horas dadas e retorna em minutos\n",
    "    \n",
    "    Parameters\n",
    "    ----------\n",
    "    h1, h2 : unix timestamp\n",
    "        Hora inicio e fim para ser feito o cálculo da diferença\n",
    "        \n",
    "    Returns\n",
    "    ---------\n",
    "    diff : float\n",
    "        Diferença entre as duas horas dadas em minutos\n",
    "        \n",
    "    \"\"\"\n",
    "    \n",
    "    h1Aux = datetime.datetime.fromtimestamp(h1)\n",
    "    h2Aux = datetime.datetime.fromtimestamp(h2)\n",
    "    diff = abs((h1Aux - h2Aux)).total_seconds()/60\n",
    "    \n",
    "    return diff"
   ]
  },
  {
   "cell_type": "code",
   "execution_count": 15,
   "metadata": {
    "collapsed": true
   },
   "outputs": [],
   "source": [
    "def str_to_datetime(df_time):\n",
    "    \"\"\" \n",
    "    Reformatando de string para datetime.\n",
    "    \n",
    "    Parameters\n",
    "    ----------\n",
    "    df_time : pandas.DataFrame, string\n",
    "        Dataframe com strings a serem convertidas para datetime.\n",
    "    \n",
    "    Returns\n",
    "    ----------\n",
    "    date_list : pandas.DataFrame, datetime\n",
    "        Dataframe com valores em datetime para possíveis fusos de Vancouver.\n",
    "    \n",
    "    \"\"\"\n",
    "    date_list = []\n",
    "    \n",
    "    # Formatos de fuso horário comum de Vancouver e \n",
    "    # fuso horário característico de horário de verão\n",
    "    format_string = ['%Y-%m-%d %H:%M:%S.%f-08:00', '%Y-%m-%d %H:%M:%S.%f-07:00',\n",
    "                     '%Y-%m-%d %H:%M:%S-08:00', '%Y-%m-%d %H:%M:%S-07:00']\n",
    "    \n",
    "    \n",
    "    for date in df_time:\n",
    "        for fmt in format_string:\n",
    "            try:\n",
    "                date_list.append(datetime.datetime.strptime(str(date), fmt))\n",
    "                break\n",
    "            except:\n",
    "                pass\n",
    "            \n",
    "    \n",
    "    return pd.DataFrame(date_list)"
   ]
  },
  {
   "cell_type": "code",
   "execution_count": 16,
   "metadata": {
    "collapsed": true
   },
   "outputs": [],
   "source": [
    "dfOccupied['Start_time'] = str_to_datetime(dfOccupied['Start_time'])\n",
    "dfOccupied['End_time'] = str_to_datetime(dfOccupied['End_time'])\n",
    "\n",
    "dfOccupied.dropna(axis=0, how='any', inplace=True)"
   ]
  },
  {
   "cell_type": "code",
   "execution_count": 17,
   "metadata": {},
   "outputs": [],
   "source": [
    "# Organizando a duração de cada intervalo de ocupação\n",
    "Occupied_Diff = pd.DataFrame()\n",
    "\n",
    "Occupied_Diff['Id'] = dfOccupied['Id']\n",
    "Occupied_Diff['Start_time'] = dfOccupied['Start_time']\n",
    "Occupied_Diff['End_time'] = dfOccupied['End_time']\n",
    "Occupied_Diff['duration'] = dfOccupied['Real_duration']\n",
    "Occupied_Diff['maps_duration'] = dfOccupied['Maps_duration']"
   ]
  },
  {
   "cell_type": "code",
   "execution_count": 18,
   "metadata": {
    "collapsed": true
   },
   "outputs": [],
   "source": [
    "# Fazendo a duração de cada intervalo de tempo de ociosidade\n",
    "diff = []\n",
    "for i in range(len(dfParked)):\n",
    "    diff.append(Hour_Diff(dfParked['Start_time'].iloc[i], dfParked['End_time'].iloc[i]))\n",
    "\n",
    "diff = pd.DataFrame(diff, columns=['duration'])\n",
    "Parked_Diff = pd.concat([dfParked, diff], axis=1)"
   ]
  },
  {
   "cell_type": "markdown",
   "metadata": {},
   "source": [
    "## Plotagem dos CDFs."
   ]
  },
  {
   "cell_type": "code",
   "execution_count": 19,
   "metadata": {
    "collapsed": true
   },
   "outputs": [],
   "source": [
    "def cdf(df):\n",
    "    \"\"\"\n",
    "    Calcula valores de todas as coordenadas (x,y) para uma CDF.\n",
    "    \n",
    "    Parameters\n",
    "    -----------\n",
    "    df : float list, pandas.DataFrame\n",
    "        Lista de valores de durações para ser feita a CDF.\n",
    "    \n",
    "    Returns\n",
    "    ---------\n",
    "    x, y: float list\n",
    "        Lista de todas as coordenadas da CDF.\n",
    "        \n",
    "    \"\"\"\n",
    "    \n",
    "    df = df.sort_values(by='duration')\n",
    "    values = df['duration']\n",
    "    \n",
    "    x = []\n",
    "    y = []\n",
    "\n",
    "    total = float(len(values))\n",
    "    cnt = 0\n",
    "    last = values.iloc[0]\n",
    "    for data in values:\n",
    "        if data != last:\n",
    "            x.append(last)\n",
    "            y.append(cnt/total)\n",
    "            cnt += 1\n",
    "            last = data\n",
    "        else:\n",
    "            cnt += 1\n",
    "    x.append(last)\n",
    "    y.append(cnt/total)\n",
    "    \n",
    "    return x, y"
   ]
  },
  {
   "cell_type": "code",
   "execution_count": 20,
   "metadata": {
    "collapsed": true
   },
   "outputs": [],
   "source": [
    "# Selecionando somente os valores menores ou iguais a 3000 minutos\n",
    "# Para a ociosidade tempos curtos tambem contam\n",
    "\n",
    "Occupied_Diff = Occupied_Diff[Occupied_Diff['duration'] <= 3000]\n",
    "Occupied_Diff = Occupied_Diff[Occupied_Diff['duration'] > 0]\n",
    "Parked_Diff = Parked_Diff[Parked_Diff['duration'] <= 3000]\n",
    "Parked_Diff = Parked_Diff[Parked_Diff['duration'] > 0]"
   ]
  },
  {
   "cell_type": "code",
   "execution_count": 21,
   "metadata": {},
   "outputs": [
    {
     "data": {
      "text/plain": [
       "[<matplotlib.lines.Line2D at 0x7ff04cd8f390>]"
      ]
     },
     "execution_count": 21,
     "metadata": {},
     "output_type": "execute_result"
    },
    {
     "data": {
      "image/png": "[encoded data removed]",
      "text/plain": [
       "<Figure size 432x288 with 1 Axes>"
      ]
     },
     "metadata": {},
     "output_type": "display_data"
    }
   ],
   "source": [
    "# CDF Maps duration\n",
    "# Retirando valores entre 0 e 1 do maps\n",
    "\n",
    "maps = pd.DataFrame()\n",
    "# maps['duration'] = Occupied_Diff[Occupied_Diff['maps_duration'] >= 0]['maps_duration']\n",
    "maps['duration'] = Occupied_Diff['maps_duration']\n",
    "\n",
    "x_maps, y_maps = cdf(maps[maps['duration'] > 0].sort_values(by=['duration']))\n",
    "\n",
    "fig, ax = plt.subplots()\n",
    "\n",
    "ax.set_ylabel('ECDF')\n",
    "ax.set_xlabel('Tempo de Trajeto Maps [Minutos]')\n",
    "\n",
    "plt.plot(x_maps, y_maps)\n",
    "\n",
    "# plt.savefig('CDF_Maps.pdf', bbox_inches='tight')"
   ]
  },
  {
   "cell_type": "code",
   "execution_count": 22,
   "metadata": {},
   "outputs": [
    {
     "data": {
      "text/plain": [
       "[<matplotlib.lines.Line2D at 0x7ff04c431e80>]"
      ]
     },
     "execution_count": 22,
     "metadata": {},
     "output_type": "execute_result"
    },
    {
     "data": {
      "image/png": "[encoded data removed]",
      "text/plain": [
       "<Figure size 432x288 with 1 Axes>"
      ]
     },
     "metadata": {},
     "output_type": "display_data"
    }
   ],
   "source": [
    "# CDF Ocupação de carros normais\n",
    "fig, ax = plt.subplots()\n",
    "\n",
    "ax.set_ylabel('ECDF')\n",
    "ax.set_xlabel('Tempo de Trajeto Maps [Minutos]')\n",
    "\n",
    "plt.xscale('log')\n",
    "x, y = cdf(Occupied_Diff.sort_values(by=['duration']))\n",
    "plt.plot(x,y)"
   ]
  },
  {
   "cell_type": "code",
   "execution_count": 23,
   "metadata": {},
   "outputs": [
    {
     "data": {
      "text/plain": [
       "[<matplotlib.lines.Line2D at 0x7ff04b635550>]"
      ]
     },
     "execution_count": 23,
     "metadata": {},
     "output_type": "execute_result"
    },
    {
     "data": {
      "image/png": "[encoded data removed]",
      "text/plain": [
       "<Figure size 432x288 with 1 Axes>"
      ]
     },
     "metadata": {},
     "output_type": "display_data"
    }
   ],
   "source": [
    "# CDF Viagens de carros normais\n",
    "fig, ax = plt.subplots()\n",
    "\n",
    "ax.set_ylabel('ECDF')\n",
    "ax.set_xlabel('Tempo de Trajeto Maps [Minutos]')\n",
    "\n",
    "plt.xscale('log')\n",
    "\n",
    "x, y = cdf(Parked_Diff.sort_values(by='duration'))\n",
    "plt.plot(x,y)"
   ]
  },
  {
   "cell_type": "code",
   "execution_count": null,
   "metadata": {
    "collapsed": true
   },
   "outputs": [],
   "source": [
    "# Lendo dados após fitting\n",
    "\n",
    "ocioso_pareto = pd.read_csv('ocioso_pareto.csv', usecols=[1,2])\n",
    "ocioso_weibull = pd.read_csv('ocioso_weibull.csv', usecols=[1,2])\n",
    "ocupado_pareto = pd.read_csv('ocupado_pareto.csv', usecols=[1,2])\n",
    "ocupado_weibull = pd.read_csv('ocupado_weibull.csv', usecols=[1,2])"
   ]
  },
  {
   "cell_type": "code",
   "execution_count": 25,
   "metadata": {},
   "outputs": [
    {
     "data": {
      "image/png": "[encoded data removed]",
      "text/plain": [
       "<Figure size 432x288 with 1 Axes>"
      ]
     },
     "metadata": {},
     "output_type": "display_data"
    }
   ],
   "source": [
    "# Comparação maps e tempo real em minutos e escala logaritma\n",
    "\n",
    "x, y = cdf(Occupied_Diff.sort_values(by=['duration']))\n",
    "\n",
    "plt.title('Comparação Duração Real x Duração Google Maps')\n",
    "\n",
    "plt.xscale('log')\n",
    "\n",
    "plt.grid(b=True, linestyle='--')\n",
    "\n",
    "# horizontal = [0.5 for i in range(len(x))]\n",
    "# plt.plot(range(len(x)), horizontal, '--')\n",
    "\n",
    "# vertical = []\n",
    "# plt.plot()\n",
    "\n",
    "plt.ylabel('ECDF')\n",
    "plt.xlabel('Tempo de Trajeto [Minutos]')\n",
    "\n",
    "plt.plot(x_maps, y_maps, label='Maps')\n",
    "plt.plot(x,y, label='Real')\n",
    "\n",
    "plt.legend()\n",
    "\n",
    "plt.show()\n",
    "# plt.savefig('maps_real_comparacao.pdf', bbox_inches='tight')"
   ]
  },
  {
   "cell_type": "code",
   "execution_count": 41,
   "metadata": {},
   "outputs": [],
   "source": [
    "# Função para calcular distancia entre coordenadas\n",
    "def haversine(lon1, lat1, lon2, lat2):\n",
    "\n",
    "    lon1, lat1, lon2, lat2 = map(np.radians, [lon1, lat1, lon2, lat2])\n",
    "\n",
    "    dlon = lon2 - lon1\n",
    "    dlat = lat2 - lat1\n",
    "\n",
    "    a = np.sin(dlat/2.0)**2 + np.cos(lat1) * np.cos(lat2) * np.sin(dlon/2.0)**2\n",
    "\n",
    "    c = 2 * np.arcsin(np.sqrt(a))\n",
    "    m = 6367 * c * 1000\n",
    "\n",
    "    return m"
   ]
  },
  {
   "cell_type": "code",
   "execution_count": 44,
   "metadata": {},
   "outputs": [],
   "source": [
    "# Adicionando valor de distancia no dataframe\n",
    "distance = []\n",
    "for i in range(len(dfOccupied)):\n",
    "    distance.append(haversine(dfOccupied['Start_lon'].iloc[i],dfOccupied['Start_lat'].iloc[i],\n",
    "                              dfOccupied['End_lon'].iloc[i],dfOccupied['End_lat'].iloc[i]))\n",
    "dfOccupied['distance'] = distance"
   ]
  },
  {
   "cell_type": "code",
   "execution_count": 45,
   "metadata": {},
   "outputs": [
    {
     "data": {
      "text/html": [
       "<div>\n",
       "<style>\n",
       "    .dataframe thead tr:only-child th {\n",
       "        text-align: right;\n",
       "    }\n",
       "\n",
       "    .dataframe thead th {\n",
       "        text-align: left;\n",
       "    }\n",
       "\n",
       "    .dataframe tbody tr th {\n",
       "        vertical-align: top;\n",
       "    }\n",
       "</style>\n",
       "<table border=\"1\" class=\"dataframe\">\n",
       "  <thead>\n",
       "    <tr style=\"text-align: right;\">\n",
       "      <th></th>\n",
       "      <th>Start_time</th>\n",
       "      <th>End_time</th>\n",
       "      <th>Id</th>\n",
       "      <th>Start_lat</th>\n",
       "      <th>Start_lon</th>\n",
       "      <th>End_lat</th>\n",
       "      <th>End_lon</th>\n",
       "      <th>Maps_duration</th>\n",
       "      <th>Real_duration</th>\n",
       "      <th>Fuel_start</th>\n",
       "      <th>Fuel_end</th>\n",
       "      <th>distance</th>\n",
       "    </tr>\n",
       "  </thead>\n",
       "  <tbody>\n",
       "    <tr>\n",
       "      <th>1003243</th>\n",
       "      <td>2018-06-19 06:54:31.062817</td>\n",
       "      <td>2018-06-19 07:08:55.810276</td>\n",
       "      <td>JTDKDTB33G1118988</td>\n",
       "      <td>49.283020</td>\n",
       "      <td>-123.111565</td>\n",
       "      <td>49.246296</td>\n",
       "      <td>-123.122948</td>\n",
       "      <td>14.133333</td>\n",
       "      <td>14.412458</td>\n",
       "      <td>29</td>\n",
       "      <td>29</td>\n",
       "      <td>4163.615016</td>\n",
       "    </tr>\n",
       "    <tr>\n",
       "      <th>1003244</th>\n",
       "      <td>2018-06-19 06:54:31.062817</td>\n",
       "      <td>2018-06-19 07:08:55.810276</td>\n",
       "      <td>JTDKDTB34H1598685</td>\n",
       "      <td>49.279423</td>\n",
       "      <td>-123.118553</td>\n",
       "      <td>49.266388</td>\n",
       "      <td>-123.103546</td>\n",
       "      <td>8.150000</td>\n",
       "      <td>14.412458</td>\n",
       "      <td>60</td>\n",
       "      <td>54</td>\n",
       "      <td>1811.647879</td>\n",
       "    </tr>\n",
       "    <tr>\n",
       "      <th>1003245</th>\n",
       "      <td>2018-06-19 06:56:53.037373</td>\n",
       "      <td>2018-06-19 07:08:55.810276</td>\n",
       "      <td>JTDKDTB38H1598771</td>\n",
       "      <td>49.272100</td>\n",
       "      <td>-123.207123</td>\n",
       "      <td>49.272100</td>\n",
       "      <td>-123.207123</td>\n",
       "      <td>0.000000</td>\n",
       "      <td>14.412458</td>\n",
       "      <td>84</td>\n",
       "      <td>84</td>\n",
       "      <td>0.000000</td>\n",
       "    </tr>\n",
       "    <tr>\n",
       "      <th>1003246</th>\n",
       "      <td>2018-06-19 07:00:09.229081</td>\n",
       "      <td>2018-06-19 07:08:55.810276</td>\n",
       "      <td>JTDKDTB39H1597452</td>\n",
       "      <td>49.275684</td>\n",
       "      <td>-123.057640</td>\n",
       "      <td>49.261795</td>\n",
       "      <td>-123.068031</td>\n",
       "      <td>6.766667</td>\n",
       "      <td>12.046215</td>\n",
       "      <td>76</td>\n",
       "      <td>75</td>\n",
       "      <td>1717.547261</td>\n",
       "    </tr>\n",
       "    <tr>\n",
       "      <th>1003247</th>\n",
       "      <td>2018-06-19 07:03:30.891967</td>\n",
       "      <td>2018-06-19 07:08:55.810276</td>\n",
       "      <td>JTDKDTB36G1589050</td>\n",
       "      <td>49.246758</td>\n",
       "      <td>-123.069107</td>\n",
       "      <td>49.225700</td>\n",
       "      <td>-123.078751</td>\n",
       "      <td>7.733333</td>\n",
       "      <td>8.776353</td>\n",
       "      <td>80</td>\n",
       "      <td>80</td>\n",
       "      <td>2442.402956</td>\n",
       "    </tr>\n",
       "  </tbody>\n",
       "</table>\n",
       "</div>"
      ],
      "text/plain": [
       "                        Start_time                   End_time  \\\n",
       "1003243 2018-06-19 06:54:31.062817 2018-06-19 07:08:55.810276   \n",
       "1003244 2018-06-19 06:54:31.062817 2018-06-19 07:08:55.810276   \n",
       "1003245 2018-06-19 06:56:53.037373 2018-06-19 07:08:55.810276   \n",
       "1003246 2018-06-19 07:00:09.229081 2018-06-19 07:08:55.810276   \n",
       "1003247 2018-06-19 07:03:30.891967 2018-06-19 07:08:55.810276   \n",
       "\n",
       "                        Id  Start_lat   Start_lon    End_lat     End_lon  \\\n",
       "1003243  JTDKDTB33G1118988  49.283020 -123.111565  49.246296 -123.122948   \n",
       "1003244  JTDKDTB34H1598685  49.279423 -123.118553  49.266388 -123.103546   \n",
       "1003245  JTDKDTB38H1598771  49.272100 -123.207123  49.272100 -123.207123   \n",
       "1003246  JTDKDTB39H1597452  49.275684 -123.057640  49.261795 -123.068031   \n",
       "1003247  JTDKDTB36G1589050  49.246758 -123.069107  49.225700 -123.078751   \n",
       "\n",
       "         Maps_duration  Real_duration  Fuel_start  Fuel_end     distance  \n",
       "1003243      14.133333      14.412458          29        29  4163.615016  \n",
       "1003244       8.150000      14.412458          60        54  1811.647879  \n",
       "1003245       0.000000      14.412458          84        84     0.000000  \n",
       "1003246       6.766667      12.046215          76        75  1717.547261  \n",
       "1003247       7.733333       8.776353          80        80  2442.402956  "
      ]
     },
     "execution_count": 45,
     "metadata": {},
     "output_type": "execute_result"
    }
   ],
   "source": [
    "dfOccupied.tail()"
   ]
  },
  {
   "cell_type": "code",
   "execution_count": 50,
   "metadata": {},
   "outputs": [],
   "source": [
    "dfGreatDistance = dfOccupied[(dfOccupied['distance'] > 150) & (dfOccupied['Real_duration'] < 3000)]"
   ]
  },
  {
   "cell_type": "code",
   "execution_count": 51,
   "metadata": {},
   "outputs": [
    {
     "data": {
      "text/html": [
       "<div>\n",
       "<style>\n",
       "    .dataframe thead tr:only-child th {\n",
       "        text-align: right;\n",
       "    }\n",
       "\n",
       "    .dataframe thead th {\n",
       "        text-align: left;\n",
       "    }\n",
       "\n",
       "    .dataframe tbody tr th {\n",
       "        vertical-align: top;\n",
       "    }\n",
       "</style>\n",
       "<table border=\"1\" class=\"dataframe\">\n",
       "  <thead>\n",
       "    <tr style=\"text-align: right;\">\n",
       "      <th></th>\n",
       "      <th>Start_lat</th>\n",
       "      <th>Start_lon</th>\n",
       "      <th>End_lat</th>\n",
       "      <th>End_lon</th>\n",
       "      <th>Maps_duration</th>\n",
       "      <th>Real_duration</th>\n",
       "      <th>Fuel_start</th>\n",
       "      <th>Fuel_end</th>\n",
       "      <th>distance</th>\n",
       "    </tr>\n",
       "  </thead>\n",
       "  <tbody>\n",
       "    <tr>\n",
       "      <th>count</th>\n",
       "      <td>695623.000000</td>\n",
       "      <td>695623.000000</td>\n",
       "      <td>695623.000000</td>\n",
       "      <td>695623.000000</td>\n",
       "      <td>695623.000000</td>\n",
       "      <td>695623.000000</td>\n",
       "      <td>695623.000000</td>\n",
       "      <td>695623.000000</td>\n",
       "      <td>695623.000000</td>\n",
       "    </tr>\n",
       "    <tr>\n",
       "      <th>mean</th>\n",
       "      <td>49.264897</td>\n",
       "      <td>-123.106172</td>\n",
       "      <td>49.264886</td>\n",
       "      <td>-123.106230</td>\n",
       "      <td>11.989901</td>\n",
       "      <td>84.066426</td>\n",
       "      <td>57.071987</td>\n",
       "      <td>57.080074</td>\n",
       "      <td>4023.315290</td>\n",
       "    </tr>\n",
       "    <tr>\n",
       "      <th>std</th>\n",
       "      <td>0.023921</td>\n",
       "      <td>0.060093</td>\n",
       "      <td>0.023943</td>\n",
       "      <td>0.060145</td>\n",
       "      <td>7.017792</td>\n",
       "      <td>275.677744</td>\n",
       "      <td>21.527524</td>\n",
       "      <td>21.546006</td>\n",
       "      <td>3267.595269</td>\n",
       "    </tr>\n",
       "    <tr>\n",
       "      <th>min</th>\n",
       "      <td>49.190746</td>\n",
       "      <td>-123.259369</td>\n",
       "      <td>49.190746</td>\n",
       "      <td>-123.259369</td>\n",
       "      <td>0.166667</td>\n",
       "      <td>1.044289</td>\n",
       "      <td>11.000000</td>\n",
       "      <td>11.000000</td>\n",
       "      <td>150.003114</td>\n",
       "    </tr>\n",
       "    <tr>\n",
       "      <th>25%</th>\n",
       "      <td>49.254670</td>\n",
       "      <td>-123.135452</td>\n",
       "      <td>49.254656</td>\n",
       "      <td>-123.135437</td>\n",
       "      <td>6.900000</td>\n",
       "      <td>18.965058</td>\n",
       "      <td>39.000000</td>\n",
       "      <td>39.000000</td>\n",
       "      <td>1772.574732</td>\n",
       "    </tr>\n",
       "    <tr>\n",
       "      <th>50%</th>\n",
       "      <td>49.266205</td>\n",
       "      <td>-123.111351</td>\n",
       "      <td>49.266200</td>\n",
       "      <td>-123.111389</td>\n",
       "      <td>10.616667</td>\n",
       "      <td>30.814100</td>\n",
       "      <td>58.000000</td>\n",
       "      <td>58.000000</td>\n",
       "      <td>3153.812520</td>\n",
       "    </tr>\n",
       "    <tr>\n",
       "      <th>75%</th>\n",
       "      <td>49.279854</td>\n",
       "      <td>-123.078636</td>\n",
       "      <td>49.279890</td>\n",
       "      <td>-123.078743</td>\n",
       "      <td>15.683333</td>\n",
       "      <td>50.561247</td>\n",
       "      <td>77.000000</td>\n",
       "      <td>79.000000</td>\n",
       "      <td>5292.695130</td>\n",
       "    </tr>\n",
       "    <tr>\n",
       "      <th>max</th>\n",
       "      <td>49.373573</td>\n",
       "      <td>-122.882744</td>\n",
       "      <td>49.374638</td>\n",
       "      <td>-122.882118</td>\n",
       "      <td>53.483333</td>\n",
       "      <td>2999.869118</td>\n",
       "      <td>85.000000</td>\n",
       "      <td>85.000000</td>\n",
       "      <td>27470.097214</td>\n",
       "    </tr>\n",
       "  </tbody>\n",
       "</table>\n",
       "</div>"
      ],
      "text/plain": [
       "           Start_lat      Start_lon        End_lat        End_lon  \\\n",
       "count  695623.000000  695623.000000  695623.000000  695623.000000   \n",
       "mean       49.264897    -123.106172      49.264886    -123.106230   \n",
       "std         0.023921       0.060093       0.023943       0.060145   \n",
       "min        49.190746    -123.259369      49.190746    -123.259369   \n",
       "25%        49.254670    -123.135452      49.254656    -123.135437   \n",
       "50%        49.266205    -123.111351      49.266200    -123.111389   \n",
       "75%        49.279854    -123.078636      49.279890    -123.078743   \n",
       "max        49.373573    -122.882744      49.374638    -122.882118   \n",
       "\n",
       "       Maps_duration  Real_duration     Fuel_start       Fuel_end  \\\n",
       "count  695623.000000  695623.000000  695623.000000  695623.000000   \n",
       "mean       11.989901      84.066426      57.071987      57.080074   \n",
       "std         7.017792     275.677744      21.527524      21.546006   \n",
       "min         0.166667       1.044289      11.000000      11.000000   \n",
       "25%         6.900000      18.965058      39.000000      39.000000   \n",
       "50%        10.616667      30.814100      58.000000      58.000000   \n",
       "75%        15.683333      50.561247      77.000000      79.000000   \n",
       "max        53.483333    2999.869118      85.000000      85.000000   \n",
       "\n",
       "            distance  \n",
       "count  695623.000000  \n",
       "mean     4023.315290  \n",
       "std      3267.595269  \n",
       "min       150.003114  \n",
       "25%      1772.574732  \n",
       "50%      3153.812520  \n",
       "75%      5292.695130  \n",
       "max     27470.097214  "
      ]
     },
     "execution_count": 51,
     "metadata": {},
     "output_type": "execute_result"
    }
   ],
   "source": [
    "dfGreatDistance.describe()"
   ]
  },
  {
   "cell_type": "code",
   "execution_count": 54,
   "metadata": {},
   "outputs": [
    {
     "data": {
      "text/html": [
       "<div>\n",
       "<style>\n",
       "    .dataframe thead tr:only-child th {\n",
       "        text-align: right;\n",
       "    }\n",
       "\n",
       "    .dataframe thead th {\n",
       "        text-align: left;\n",
       "    }\n",
       "\n",
       "    .dataframe tbody tr th {\n",
       "        vertical-align: top;\n",
       "    }\n",
       "</style>\n",
       "<table border=\"1\" class=\"dataframe\">\n",
       "  <thead>\n",
       "    <tr style=\"text-align: right;\">\n",
       "      <th></th>\n",
       "      <th>Start_time</th>\n",
       "      <th>End_time</th>\n",
       "      <th>Id</th>\n",
       "      <th>Start_lat</th>\n",
       "      <th>Start_lon</th>\n",
       "      <th>End_lat</th>\n",
       "      <th>End_lon</th>\n",
       "      <th>Maps_duration</th>\n",
       "      <th>Real_duration</th>\n",
       "      <th>Fuel_start</th>\n",
       "      <th>Fuel_end</th>\n",
       "      <th>distance</th>\n",
       "      <th>duration</th>\n",
       "    </tr>\n",
       "  </thead>\n",
       "  <tbody>\n",
       "  </tbody>\n",
       "</table>\n",
       "</div>"
      ],
      "text/plain": [
       "Empty DataFrame\n",
       "Columns: [Start_time, End_time, Id, Start_lat, Start_lon, End_lat, End_lon, Maps_duration, Real_duration, Fuel_start, Fuel_end, distance, duration]\n",
       "Index: []"
      ]
     },
     "execution_count": 54,
     "metadata": {},
     "output_type": "execute_result"
    }
   ],
   "source": [
    "# Foi retirado todas as viagens que sairam e chegaram no mesmo local ou proximo\n",
    "dfGreatDistance[(dfGreatDistance['End_lat']==dfGreatDistance['Start_lat']) & \n",
    "                (dfGreatDistance['End_lon']==dfGreatDistance['Start_lon'])]"
   ]
  },
  {
   "cell_type": "code",
   "execution_count": 52,
   "metadata": {},
   "outputs": [
    {
     "data": {
      "text/plain": [
       "[<matplotlib.lines.Line2D at 0x7ff04372ccc0>]"
      ]
     },
     "execution_count": 52,
     "metadata": {},
     "output_type": "execute_result"
    },
    {
     "data": {
      "image/png": "[encoded data removed]",
      "text/plain": [
       "<Figure size 432x288 with 1 Axes>"
      ]
     },
     "metadata": {},
     "output_type": "display_data"
    }
   ],
   "source": [
    "# CDF Maps duration\n",
    "# Retirando valores entre 0 e 1 do maps\n",
    "\n",
    "maps = pd.DataFrame()\n",
    "# maps['duration'] = Occupied_Diff[Occupied_Diff['maps_duration'] >= 0]['maps_duration']\n",
    "maps['duration'] = dfGreatDistance['Maps_duration']\n",
    "\n",
    "x_maps, y_maps = cdf(maps[maps['duration'] > 0].sort_values(by=['duration']))\n",
    "\n",
    "fig, ax = plt.subplots()\n",
    "\n",
    "ax.set_ylabel('ECDF')\n",
    "ax.set_xlabel('Tempo de Trajeto Maps [Minutos]')\n",
    "\n",
    "plt.plot(x_maps, y_maps)\n",
    "\n",
    "# plt.savefig('CDF_Maps.pdf', bbox_inches='tight')"
   ]
  },
  {
   "cell_type": "code",
   "execution_count": 53,
   "metadata": {},
   "outputs": [
    {
     "name": "stderr",
     "output_type": "stream",
     "text": [
      "/home/victor/anaconda3/lib/python3.6/site-packages/ipykernel_launcher.py:2: SettingWithCopyWarning: \n",
      "A value is trying to be set on a copy of a slice from a DataFrame.\n",
      "Try using .loc[row_indexer,col_indexer] = value instead\n",
      "\n",
      "See the caveats in the documentation: http://pandas.pydata.org/pandas-docs/stable/indexing.html#indexing-view-versus-copy\n",
      "  \n"
     ]
    },
    {
     "data": {
      "image/png": "[encoded data removed]",
      "text/plain": [
       "<Figure size 432x288 with 1 Axes>"
      ]
     },
     "metadata": {},
     "output_type": "display_data"
    }
   ],
   "source": [
    "# Comparação maps e tempo real em minutos e escala logaritma\n",
    "dfGreatDistance['duration'] = dfGreatDistance['Real_duration']\n",
    "x, y = cdf(dfGreatDistance.sort_values(by=['duration']))\n",
    "\n",
    "plt.title('Comparação Duração Real x Duração Google Maps')\n",
    "\n",
    "plt.xscale('log')\n",
    "\n",
    "plt.grid(b=True, linestyle='--')\n",
    "\n",
    "# horizontal = [0.5 for i in range(len(x))]\n",
    "# plt.plot(range(len(x)), horizontal, '--')\n",
    "\n",
    "# vertical = []\n",
    "# plt.plot()\n",
    "\n",
    "plt.ylabel('ECDF')\n",
    "plt.xlabel('Tempo de Trajeto [Minutos]')\n",
    "\n",
    "plt.plot(x_maps, y_maps, label='Maps')\n",
    "plt.plot(x,y, label='Real')\n",
    "\n",
    "plt.legend()\n",
    "\n",
    "plt.show()\n",
    "# plt.savefig('maps_real_comparacao.pdf', bbox_inches='tight')"
   ]
  },
  {
   "cell_type": "markdown",
   "metadata": {},
   "source": [
    "## Tarde e noite para dias de semana"
   ]
  },
  {
   "cell_type": "code",
   "execution_count": 69,
   "metadata": {
    "collapsed": true
   },
   "outputs": [],
   "source": [
    "tarde = []\n",
    "noite = []\n",
    "\n",
    "for i in range(len(Occupied_Diff)):\n",
    "    start = Occupied_Diff['Start_time'].iloc[i]\n",
    "    hora = start.hour\n",
    "    dia = int(start.strftime('%w'))\n",
    "    \n",
    "    if ((hora >= 11 and hora <= 13) and (dia > 0  and dia < 6)):\n",
    "        tarde.append([Occupied_Diff['Id'].iloc[i], Occupied_Diff['Start_time'].iloc[i], \n",
    "                      Occupied_Diff['duration'].iloc[i]])\n",
    "    elif ((hora >= 18 and hora <= 19) and (dia > 0  and dia < 6)):\n",
    "        noite.append([Occupied_Diff['Id'].iloc[i], Occupied_Diff['Start_time'].iloc[i], \n",
    "                      Occupied_Diff['duration'].iloc[i]])\n",
    "\n",
    "tarde = pd.DataFrame(tarde, columns=['car_id', 'start', 'duration'])\n",
    "noite = pd.DataFrame(noite, columns=['car_id', 'start', 'duration'])"
   ]
  },
  {
   "cell_type": "code",
   "execution_count": null,
   "metadata": {
    "collapsed": true
   },
   "outputs": [],
   "source": [
    "# Durações menores que 66 horas\n",
    "tarde = tarde[tarde['duration'] < 4000]\n",
    "noite = noite[noite['duration'] < 4000]"
   ]
  },
  {
   "cell_type": "code",
   "execution_count": null,
   "metadata": {},
   "outputs": [],
   "source": [
    "x, y = cdf(tarde.sort_values(by='duration'))\n",
    "plt.plot(x,y)"
   ]
  },
  {
   "cell_type": "code",
   "execution_count": null,
   "metadata": {
    "scrolled": true
   },
   "outputs": [],
   "source": [
    "x, y = cdf(noite.sort_values(by='duration'))\n",
    "plt.plot(x,y)"
   ]
  },
  {
   "cell_type": "code",
   "execution_count": null,
   "metadata": {
    "collapsed": true
   },
   "outputs": [],
   "source": [
    "# Durações menores ou iguais que 28 horas\n",
    "tarde = tarde[tarde['duration'] <= 28*60]\n",
    "noite = noite[noite['duration'] <= 28*60]\n",
    "todos = Occupied_Diff[Occupied_Diff['duration'] <= 28*60]"
   ]
  },
  {
   "cell_type": "code",
   "execution_count": null,
   "metadata": {},
   "outputs": [],
   "source": [
    "import matplotlib\n",
    "\n",
    "matplotlib.rc('font', size=12)\n",
    "\n",
    "fig, ax = plt.subplots()\n",
    "\n",
    "x, y = cdf(tarde.sort_values(by='duration'))\n",
    "ax.plot(x,y, label='11h a 13h')# marker='o', markevery=[30,140,280,400,580,800,960,1010,1100])\n",
    "\n",
    "x, y = cdf(noite.sort_values(by='duration'))\n",
    "ax.plot(x,y, label='18h a 19h') #marker='s', markevery=[30,60,120,190,280,340,392,400,406])\n",
    "\n",
    "x, y = cdf(todos.sort_values(by='duration'))\n",
    "ax.plot(x,y, label='Dia todo') #marker='^', markevery=[20,120,350,600,960,1400,2200,2800,3600,4300,4550])\n",
    "\n",
    "# Modificando os labels dos minutos\n",
    "ax.xaxis.set_ticks(np.arange(0, 1800, 180))\n",
    "\n",
    "fig.canvas.draw()\n",
    "\n",
    "labels = [item.get_text() for item in ax.get_xticklabels()]\n",
    "labels = range(0,30,3)\n",
    "\n",
    "ax.set_xticklabels(labels)\n",
    "\n",
    "ax.legend(bbox_to_anchor=(0.65, 0.3), loc=2, borderaxespad=0.2)\n",
    "ax.set_ylabel('ECDF')\n",
    "ax.set_xlabel('Tempo Ocupado [horas]')\n",
    "\n",
    "# plt.savefig('tarde_noiteCDF.pdf')"
   ]
  },
  {
   "cell_type": "code",
   "execution_count": null,
   "metadata": {
    "collapsed": true
   },
   "outputs": [],
   "source": []
  }
 ],
 "metadata": {
  "kernelspec": {
   "display_name": "Python 3",
   "language": "python",
   "name": "python3"
  },
  "language_info": {
   "codemirror_mode": {
    "name": "ipython",
    "version": 3
   },
   "file_extension": ".py",
   "mimetype": "text/x-python",
   "name": "python",
   "nbconvert_exporter": "python",
   "pygments_lexer": "ipython3",
   "version": "3.6.1"
  }
 },
 "nbformat": 4,
 "nbformat_minor": 2
}
