{
 "cells": [
  {
   "cell_type": "code",
   "execution_count": 1,
   "metadata": {
    "collapsed": true
   },
   "outputs": [],
   "source": [
    "%matplotlib inline\n",
    "import pandas as pd\n",
    "import urllib as ur\n",
    "import json\n",
    "import datetime\n",
    "import matplotlib.pyplot as plt\n",
    "import matplotlib\n",
    "import numpy as np"
   ]
  },
  {
   "cell_type": "markdown",
   "metadata": {},
   "source": [
    "## Coletando a duração de cada viagem."
   ]
  },
  {
   "cell_type": "code",
   "execution_count": 2,
   "metadata": {
    "collapsed": true
   },
   "outputs": [],
   "source": [
    "# Lendo csv de intervalos de ociosidade e ocupação\n",
    "dfOccupied = pd.read_csv('../travels_id_tratado.csv')\n",
    "dfParked = pd.read_csv('../parked_id.csv')"
   ]
  },
  {
   "cell_type": "code",
   "execution_count": 3,
   "metadata": {
    "collapsed": true
   },
   "outputs": [
    {
     "name": "stdout",
     "output_type": "stream",
     "text": [
      "2018-11-12 18:40:17.825523\n",
      "2018-11-12 18:40:17.826689\n"
     ]
    }
   ],
   "source": [
    "car_ids = list(dfOccupied.Id.unique())\n",
    "\n",
    "print(datetime.datetime.now())\n",
    "\n",
    "# Removing uncommon ids\n",
    "# Ex: 4c5865a3-4b03-40f6-a3a8-d4e94aae3b17\n",
    "car_ids = [id for id in car_ids if id.find('-') == -1]# Coletando os ids dos veículos\n",
    "\n",
    "print(datetime.datetime.now())"
   ]
  },
  {
   "cell_type": "code",
   "execution_count": 4,
   "metadata": {
    "collapsed": true
   },
   "outputs": [],
   "source": [
    "def Hour_Diff(h1,h2):\n",
    "    \"\"\"\n",
    "    Faz a diferença entre duas horas dadas e retorna em minutos\n",
    "    \n",
    "    Parameters\n",
    "    ----------\n",
    "    h1, h2 : unix timestamp\n",
    "        Hora inicio e fim para ser feito o cálculo da diferença\n",
    "        \n",
    "    Returns\n",
    "    ---------\n",
    "    diff : float\n",
    "        Diferença entre as duas horas dadas em minutos\n",
    "        \n",
    "    \"\"\"\n",
    "    \n",
    "    h1Aux = datetime.datetime.fromtimestamp(h1)\n",
    "    h2Aux = datetime.datetime.fromtimestamp(h2)\n",
    "    diff = abs((h1Aux - h2Aux)).total_seconds()/60\n",
    "    \n",
    "    return diff"
   ]
  },
  {
   "cell_type": "code",
   "execution_count": 5,
   "metadata": {
    "collapsed": true
   },
   "outputs": [],
   "source": [
    "def str_to_datetime(df_time):\n",
    "    \"\"\" \n",
    "    Reformatando de string para datetime.\n",
    "    \n",
    "    Parameters\n",
    "    ----------\n",
    "    df_time : pandas.DataFrame, string\n",
    "        Dataframe com strings a serem convertidas para datetime.\n",
    "    \n",
    "    Returns\n",
    "    ----------\n",
    "    date_list : pandas.DataFrame, datetime\n",
    "        Dataframe com valores em datetime para possíveis fusos de Vancouver.\n",
    "    \n",
    "    \"\"\"\n",
    "    date_list = []\n",
    "    \n",
    "    # Formatos de fuso horário comum de Vancouver e \n",
    "    # fuso horário característico de horário de verão\n",
    "    format_string = ['%Y-%m-%d %H:%M:%S.%f-08:00', '%Y-%m-%d %H:%M:%S.%f-07:00',\n",
    "                     '%Y-%m-%d %H:%M:%S-08:00', '%Y-%m-%d %H:%M:%S-07:00']\n",
    "    \n",
    "    \n",
    "    for date in df_time:\n",
    "        for fmt in format_string:\n",
    "            try:\n",
    "                date_list.append(datetime.datetime.strptime(str(date), fmt))\n",
    "                break\n",
    "            except:\n",
    "                pass\n",
    "            \n",
    "    \n",
    "    return pd.DataFrame(date_list)"
   ]
  },
  {
   "cell_type": "code",
   "execution_count": 6,
   "metadata": {
    "collapsed": true
   },
   "outputs": [],
   "source": [
    "dfOccupied['Start_time'] = str_to_datetime(dfOccupied['Start_time'])\n",
    "dfOccupied['End_time'] = str_to_datetime(dfOccupied['End_time'])\n",
    "\n",
    "dfOccupied.dropna(axis=0, how='any', inplace=True)"
   ]
  },
  {
   "cell_type": "code",
   "execution_count": 7,
   "metadata": {},
   "outputs": [],
   "source": [
    "# Organizando a duração de cada intervalo de ocupação\n",
    "Occupied_Diff = pd.DataFrame()\n",
    "\n",
    "Occupied_Diff['Id'] = dfOccupied['Id']\n",
    "Occupied_Diff['Start_time'] = dfOccupied['Start_time']\n",
    "Occupied_Diff['End_time'] = dfOccupied['End_time']\n",
    "Occupied_Diff['duration'] = dfOccupied['Real_duration']\n",
    "Occupied_Diff['maps_duration'] = dfOccupied['Maps_duration']"
   ]
  },
  {
   "cell_type": "code",
   "execution_count": 8,
   "metadata": {
    "collapsed": true
   },
   "outputs": [],
   "source": [
    "# Fazendo a duração de cada intervalo de tempo de ociosidade\n",
    "diff = []\n",
    "for i in range(len(dfParked)):\n",
    "    diff.append(Hour_Diff(dfParked['Start_time'].iloc[i], dfParked['End_time'].iloc[i]))\n",
    "\n",
    "diff = pd.DataFrame(diff, columns=['duration'])\n",
    "Parked_Diff = pd.concat([dfParked, diff], axis=1)"
   ]
  },
  {
   "cell_type": "markdown",
   "metadata": {},
   "source": [
    "## Plotagem dos CDFs."
   ]
  },
  {
   "cell_type": "code",
   "execution_count": 9,
   "metadata": {
    "collapsed": true
   },
   "outputs": [],
   "source": [
    "def cdf(df):\n",
    "    \"\"\"\n",
    "    Calcula valores de todas as coordenadas (x,y) para uma CDF.\n",
    "    \n",
    "    Parameters\n",
    "    -----------\n",
    "    df : float list, pandas.DataFrame\n",
    "        Lista de valores de durações para ser feita a CDF.\n",
    "    \n",
    "    Returns\n",
    "    ---------\n",
    "    x, y: float list\n",
    "        Lista de todas as coordenadas da CDF.\n",
    "        \n",
    "    \"\"\"\n",
    "    \n",
    "    df = df.sort_values(by='duration')\n",
    "    values = df['duration']\n",
    "    \n",
    "    x = []\n",
    "    y = []\n",
    "\n",
    "    total = float(len(values))\n",
    "    cnt = 0\n",
    "    last = values.iloc[0]\n",
    "    for data in values:\n",
    "        if data != last:\n",
    "            x.append(last)\n",
    "            y.append(cnt/total)\n",
    "            cnt += 1\n",
    "            last = data\n",
    "        else:\n",
    "            cnt += 1\n",
    "    x.append(last)\n",
    "    y.append(cnt/total)\n",
    "    \n",
    "    return x, y"
   ]
  },
  {
   "cell_type": "code",
   "execution_count": 10,
   "metadata": {
    "collapsed": true
   },
   "outputs": [],
   "source": [
    "# Selecionando somente os valores menores ou iguais a 3000 minutos\n",
    "# Para a ociosidade tempos curtos tambem contam\n",
    "\n",
    "Occupied_Diff = Occupied_Diff[Occupied_Diff['duration'] <= 3000]\n",
    "Occupied_Diff = Occupied_Diff[Occupied_Diff['duration'] > 0]\n",
    "Parked_Diff = Parked_Diff[Parked_Diff['duration'] <= 3000]\n",
    "Parked_Diff = Parked_Diff[Parked_Diff['duration'] > 0]"
   ]
  },
  {
   "cell_type": "code",
   "execution_count": 11,
   "metadata": {},
   "outputs": [
    {
     "data": {
      "text/plain": [
       "[<matplotlib.lines.Line2D at 0x7fa2b1151128>]"
      ]
     },
     "execution_count": 11,
     "metadata": {},
     "output_type": "execute_result"
    },
    {
     "data": {
      "image/png": "[encoded data removed]",
      "text/plain": [
       "<Figure size 432x288 with 1 Axes>"
      ]
     },
     "metadata": {},
     "output_type": "display_data"
    }
   ],
   "source": [
    "# CDF Maps duration\n",
    "# Retirando valores entre 0 e 1 do maps\n",
    "\n",
    "maps = pd.DataFrame()\n",
    "# maps['duration'] = Occupied_Diff[Occupied_Diff['maps_duration'] >= 0]['maps_duration']\n",
    "maps['duration'] = Occupied_Diff['maps_duration']\n",
    "\n",
    "x_maps, y_maps = cdf(maps[maps['duration'] > 0].sort_values(by=['duration']))\n",
    "\n",
    "fig, ax = plt.subplots()\n",
    "\n",
    "ax.set_ylabel('ECDF')\n",
    "ax.set_xlabel('Tempo de Trajeto Maps [Minutos]')\n",
    "\n",
    "plt.plot(x_maps, y_maps)\n",
    "\n",
    "# plt.savefig('CDF_Maps.pdf', bbox_inches='tight')"
   ]
  },
  {
   "cell_type": "code",
   "execution_count": 38,
   "metadata": {},
   "outputs": [
    {
     "name": "stderr",
     "output_type": "stream",
     "text": [
      "/home/victor/anaconda3/lib/python3.6/site-packages/matplotlib/axes/_base.py:3129: UserWarning: Attempted to set non-positive xlimits for log-scale axis; invalid limits will be ignored.\n",
      "  'Attempted to set non-positive xlimits for log-scale axis; '\n"
     ]
    },
    {
     "data": {
      "image/png": "[encoded data removed]",
      "text/plain": [
       "<Figure size 432x288 with 1 Axes>"
      ]
     },
     "metadata": {},
     "output_type": "display_data"
    }
   ],
   "source": [
    "# CDF Ocupação de carros normais\n",
    "x, y = cdf(Occupied_Diff.sort_values(by=['duration']))\n",
    "plt.plot(x,y)\n",
    "\n",
    "plt.ylabel('ECDF of rental duration')\n",
    "plt.xlabel('Busy time [minutes]')\n",
    "\n",
    "plt.xscale('log')\n",
    "\n",
    "plt.xlim(0,max(x))\n",
    "plt.ylim(0,1)\n",
    "\n",
    "plt.savefig('../plots/busyCDF.pdf')\n",
    "plt.show()"
   ]
  },
  {
   "cell_type": "code",
   "execution_count": 37,
   "metadata": {},
   "outputs": [
    {
     "name": "stderr",
     "output_type": "stream",
     "text": [
      "/home/victor/anaconda3/lib/python3.6/site-packages/matplotlib/axes/_base.py:3129: UserWarning: Attempted to set non-positive xlimits for log-scale axis; invalid limits will be ignored.\n",
      "  'Attempted to set non-positive xlimits for log-scale axis; '\n"
     ]
    },
    {
     "data": {
      "image/png": "[encoded data removed]",
      "text/plain": [
       "<Figure size 432x288 with 1 Axes>"
      ]
     },
     "metadata": {},
     "output_type": "display_data"
    }
   ],
   "source": [
    "# CDF Viagens de carros normais\n",
    "\n",
    "x, y = cdf(Parked_Diff.sort_values(by='duration'))\n",
    "plt.plot(x,y)\n",
    "\n",
    "plt.ylabel('ECDF of idle duration')\n",
    "plt.xlabel('Idle time [minutes]')\n",
    "\n",
    "plt.xscale('log')\n",
    "\n",
    "plt.xlim(0,max(x))\n",
    "plt.ylim(0,1)\n",
    "\n",
    "plt.savefig('../plots/idleCDF.pdf')\n",
    "plt.show()"
   ]
  },
  {
   "cell_type": "code",
   "execution_count": null,
   "metadata": {
    "collapsed": true
   },
   "outputs": [],
   "source": [
    "# Lendo dados após fitting\n",
    "\n",
    "ocioso_pareto = pd.read_csv('ocioso_pareto.csv', usecols=[1,2])\n",
    "ocioso_weibull = pd.read_csv('ocioso_weibull.csv', usecols=[1,2])\n",
    "ocupado_pareto = pd.read_csv('ocupado_pareto.csv', usecols=[1,2])\n",
    "ocupado_weibull = pd.read_csv('ocupado_weibull.csv', usecols=[1,2])"
   ]
  },
  {
   "cell_type": "code",
   "execution_count": 14,
   "metadata": {},
   "outputs": [
    {
     "name": "stderr",
     "output_type": "stream",
     "text": [
      "/home/victor/anaconda3/lib/python3.6/site-packages/matplotlib/axes/_base.py:3129: UserWarning: Attempted to set non-positive xlimits for log-scale axis; invalid limits will be ignored.\n",
      "  'Attempted to set non-positive xlimits for log-scale axis; '\n"
     ]
    },
    {
     "data": {
      "image/png": "[encoded data removed]",
      "text/plain": [
       "<Figure size 432x288 with 1 Axes>"
      ]
     },
     "metadata": {},
     "output_type": "display_data"
    }
   ],
   "source": [
    "# Comparação maps e tempo real em minutos e escala logaritma\n",
    "\n",
    "x, y = cdf(Occupied_Diff.sort_values(by=['duration']))\n",
    "\n",
    "# plt.title('Comparação Duração Real x Duração Google Maps')\n",
    "\n",
    "plt.xscale('log')\n",
    "\n",
    "# horizontal = [0.5 for i in range(len(x))]\n",
    "# plt.plot(range(len(x)), horizontal, '--')\n",
    "\n",
    "# vertical = []\n",
    "# plt.plot()\n",
    "\n",
    "plt.ylabel('ECDF')\n",
    "plt.xlabel('Tempo de Trajeto [Minutos]')\n",
    "\n",
    "plt.plot(x_maps, y_maps, label='Maps')\n",
    "plt.plot(x,y, label='Real')\n",
    "\n",
    "plt.xlim(0,max(x))\n",
    "plt.ylim(0,1)\n",
    "\n",
    "plt.legend(loc=4, borderaxespad=0.2, frameon=False)\n",
    "\n",
    "plt.show()\n",
    "# plt.savefig('maps_real_comparacao.pdf', bbox_inches='tight')"
   ]
  },
  {
   "cell_type": "markdown",
   "metadata": {},
   "source": [
    "### Retirando as viagens que iniciaram e terminaram as viagens no mesmo local"
   ]
  },
  {
   "cell_type": "code",
   "execution_count": 16,
   "metadata": {},
   "outputs": [],
   "source": [
    "# Adicionando valor de distancia no dataframe\n",
    "distance = []\n",
    "for i in range(len(dfOccupied)):\n",
    "    distance.append(haversine(dfOccupied['Start_lon'].iloc[i],dfOccupied['Start_lat'].iloc[i],\n",
    "                              dfOccupied['End_lon'].iloc[i],dfOccupied['End_lat'].iloc[i]))\n",
    "dfOccupied['distance'] = distance"
   ]
  },
  {
   "cell_type": "code",
   "execution_count": 17,
   "metadata": {},
   "outputs": [
    {
     "data": {
      "text/html": [
       "<div>\n",
       "<style>\n",
       "    .dataframe thead tr:only-child th {\n",
       "        text-align: right;\n",
       "    }\n",
       "\n",
       "    .dataframe thead th {\n",
       "        text-align: left;\n",
       "    }\n",
       "\n",
       "    .dataframe tbody tr th {\n",
       "        vertical-align: top;\n",
       "    }\n",
       "</style>\n",
       "<table border=\"1\" class=\"dataframe\">\n",
       "  <thead>\n",
       "    <tr style=\"text-align: right;\">\n",
       "      <th></th>\n",
       "      <th>Start_time</th>\n",
       "      <th>End_time</th>\n",
       "      <th>Id</th>\n",
       "      <th>Start_lat</th>\n",
       "      <th>Start_lon</th>\n",
       "      <th>End_lat</th>\n",
       "      <th>End_lon</th>\n",
       "      <th>Maps_duration</th>\n",
       "      <th>Real_duration</th>\n",
       "      <th>Fuel_start</th>\n",
       "      <th>Fuel_end</th>\n",
       "      <th>distance</th>\n",
       "    </tr>\n",
       "  </thead>\n",
       "  <tbody>\n",
       "    <tr>\n",
       "      <th>1232256</th>\n",
       "      <td>2018-07-16 23:33:29.434806</td>\n",
       "      <td>2018-07-16 23:56:55.642463</td>\n",
       "      <td>JTDKDTB34G1589080</td>\n",
       "      <td>49.283900</td>\n",
       "      <td>-123.107666</td>\n",
       "      <td>49.234790</td>\n",
       "      <td>-123.168877</td>\n",
       "      <td>20.166667</td>\n",
       "      <td>33.105323</td>\n",
       "      <td>33</td>\n",
       "      <td>29</td>\n",
       "      <td>7034.908913</td>\n",
       "    </tr>\n",
       "    <tr>\n",
       "      <th>1232257</th>\n",
       "      <td>2018-07-16 23:42:03.421044</td>\n",
       "      <td>2018-07-16 23:56:55.642463</td>\n",
       "      <td>JTDKDTB33E1079414</td>\n",
       "      <td>49.278633</td>\n",
       "      <td>-123.111267</td>\n",
       "      <td>49.231330</td>\n",
       "      <td>-122.890213</td>\n",
       "      <td>25.566667</td>\n",
       "      <td>23.436794</td>\n",
       "      <td>68</td>\n",
       "      <td>69</td>\n",
       "      <td>16872.895683</td>\n",
       "    </tr>\n",
       "    <tr>\n",
       "      <th>1232258</th>\n",
       "      <td>2018-07-16 23:48:25.695536</td>\n",
       "      <td>2018-07-16 23:56:55.642463</td>\n",
       "      <td>JTDKDTB38H1598298</td>\n",
       "      <td>49.204853</td>\n",
       "      <td>-122.907715</td>\n",
       "      <td>49.225350</td>\n",
       "      <td>-122.915688</td>\n",
       "      <td>7.216667</td>\n",
       "      <td>14.870357</td>\n",
       "      <td>46</td>\n",
       "      <td>40</td>\n",
       "      <td>2350.099221</td>\n",
       "    </tr>\n",
       "    <tr>\n",
       "      <th>1232259</th>\n",
       "      <td>2018-07-16 23:48:25.695536</td>\n",
       "      <td>2018-07-16 23:56:55.642463</td>\n",
       "      <td>JTDKDTB35G1589170</td>\n",
       "      <td>49.270752</td>\n",
       "      <td>-123.149033</td>\n",
       "      <td>49.253910</td>\n",
       "      <td>-123.128868</td>\n",
       "      <td>7.833333</td>\n",
       "      <td>8.499115</td>\n",
       "      <td>83</td>\n",
       "      <td>81</td>\n",
       "      <td>2375.137429</td>\n",
       "    </tr>\n",
       "    <tr>\n",
       "      <th>1232260</th>\n",
       "      <td>2018-07-16 22:44:55.536166</td>\n",
       "      <td>2018-07-16 23:56:55.642463</td>\n",
       "      <td>JTDKDTB38G1126486</td>\n",
       "      <td>49.269108</td>\n",
       "      <td>-123.157928</td>\n",
       "      <td>49.270626</td>\n",
       "      <td>-123.249428</td>\n",
       "      <td>12.150000</td>\n",
       "      <td>8.499115</td>\n",
       "      <td>38</td>\n",
       "      <td>38</td>\n",
       "      <td>6636.700414</td>\n",
       "    </tr>\n",
       "  </tbody>\n",
       "</table>\n",
       "</div>"
      ],
      "text/plain": [
       "                        Start_time                   End_time  \\\n",
       "1232256 2018-07-16 23:33:29.434806 2018-07-16 23:56:55.642463   \n",
       "1232257 2018-07-16 23:42:03.421044 2018-07-16 23:56:55.642463   \n",
       "1232258 2018-07-16 23:48:25.695536 2018-07-16 23:56:55.642463   \n",
       "1232259 2018-07-16 23:48:25.695536 2018-07-16 23:56:55.642463   \n",
       "1232260 2018-07-16 22:44:55.536166 2018-07-16 23:56:55.642463   \n",
       "\n",
       "                        Id  Start_lat   Start_lon    End_lat     End_lon  \\\n",
       "1232256  JTDKDTB34G1589080  49.283900 -123.107666  49.234790 -123.168877   \n",
       "1232257  JTDKDTB33E1079414  49.278633 -123.111267  49.231330 -122.890213   \n",
       "1232258  JTDKDTB38H1598298  49.204853 -122.907715  49.225350 -122.915688   \n",
       "1232259  JTDKDTB35G1589170  49.270752 -123.149033  49.253910 -123.128868   \n",
       "1232260  JTDKDTB38G1126486  49.269108 -123.157928  49.270626 -123.249428   \n",
       "\n",
       "         Maps_duration  Real_duration  Fuel_start  Fuel_end      distance  \n",
       "1232256      20.166667      33.105323          33        29   7034.908913  \n",
       "1232257      25.566667      23.436794          68        69  16872.895683  \n",
       "1232258       7.216667      14.870357          46        40   2350.099221  \n",
       "1232259       7.833333       8.499115          83        81   2375.137429  \n",
       "1232260      12.150000       8.499115          38        38   6636.700414  "
      ]
     },
     "execution_count": 17,
     "metadata": {},
     "output_type": "execute_result"
    }
   ],
   "source": [
    "dfOccupied.tail()"
   ]
  },
  {
   "cell_type": "code",
   "execution_count": 18,
   "metadata": {},
   "outputs": [],
   "source": [
    "dfGreatDistance = dfOccupied[(dfOccupied['distance'] > 150) & (dfOccupied['Real_duration'] < 3000)]"
   ]
  },
  {
   "cell_type": "code",
   "execution_count": 19,
   "metadata": {},
   "outputs": [
    {
     "data": {
      "text/html": [
       "<div>\n",
       "<style>\n",
       "    .dataframe thead tr:only-child th {\n",
       "        text-align: right;\n",
       "    }\n",
       "\n",
       "    .dataframe thead th {\n",
       "        text-align: left;\n",
       "    }\n",
       "\n",
       "    .dataframe tbody tr th {\n",
       "        vertical-align: top;\n",
       "    }\n",
       "</style>\n",
       "<table border=\"1\" class=\"dataframe\">\n",
       "  <thead>\n",
       "    <tr style=\"text-align: right;\">\n",
       "      <th></th>\n",
       "      <th>Start_lat</th>\n",
       "      <th>Start_lon</th>\n",
       "      <th>End_lat</th>\n",
       "      <th>End_lon</th>\n",
       "      <th>Maps_duration</th>\n",
       "      <th>Real_duration</th>\n",
       "      <th>Fuel_start</th>\n",
       "      <th>Fuel_end</th>\n",
       "      <th>distance</th>\n",
       "    </tr>\n",
       "  </thead>\n",
       "  <tbody>\n",
       "    <tr>\n",
       "      <th>count</th>\n",
       "      <td>857665.000000</td>\n",
       "      <td>857665.000000</td>\n",
       "      <td>857665.000000</td>\n",
       "      <td>857665.000000</td>\n",
       "      <td>857665.000000</td>\n",
       "      <td>857665.000000</td>\n",
       "      <td>857665.000000</td>\n",
       "      <td>857665.000000</td>\n",
       "      <td>857665.000000</td>\n",
       "    </tr>\n",
       "    <tr>\n",
       "      <th>mean</th>\n",
       "      <td>49.264814</td>\n",
       "      <td>-123.106344</td>\n",
       "      <td>49.264806</td>\n",
       "      <td>-123.106378</td>\n",
       "      <td>12.043014</td>\n",
       "      <td>78.718924</td>\n",
       "      <td>56.775408</td>\n",
       "      <td>56.771567</td>\n",
       "      <td>4038.456763</td>\n",
       "    </tr>\n",
       "    <tr>\n",
       "      <th>std</th>\n",
       "      <td>0.023993</td>\n",
       "      <td>0.060168</td>\n",
       "      <td>0.024004</td>\n",
       "      <td>0.060232</td>\n",
       "      <td>7.045019</td>\n",
       "      <td>256.061423</td>\n",
       "      <td>21.734860</td>\n",
       "      <td>21.754699</td>\n",
       "      <td>3277.408672</td>\n",
       "    </tr>\n",
       "    <tr>\n",
       "      <th>min</th>\n",
       "      <td>49.190746</td>\n",
       "      <td>-123.259369</td>\n",
       "      <td>49.190746</td>\n",
       "      <td>-123.259369</td>\n",
       "      <td>0.166667</td>\n",
       "      <td>1.044289</td>\n",
       "      <td>9.000000</td>\n",
       "      <td>9.000000</td>\n",
       "      <td>150.003114</td>\n",
       "    </tr>\n",
       "    <tr>\n",
       "      <th>25%</th>\n",
       "      <td>49.254513</td>\n",
       "      <td>-123.135872</td>\n",
       "      <td>49.254486</td>\n",
       "      <td>-123.135872</td>\n",
       "      <td>6.933333</td>\n",
       "      <td>18.927987</td>\n",
       "      <td>38.000000</td>\n",
       "      <td>38.000000</td>\n",
       "      <td>1781.417564</td>\n",
       "    </tr>\n",
       "    <tr>\n",
       "      <th>50%</th>\n",
       "      <td>49.266180</td>\n",
       "      <td>-123.111427</td>\n",
       "      <td>49.266170</td>\n",
       "      <td>-123.111488</td>\n",
       "      <td>10.683333</td>\n",
       "      <td>30.779362</td>\n",
       "      <td>58.000000</td>\n",
       "      <td>58.000000</td>\n",
       "      <td>3168.361026</td>\n",
       "    </tr>\n",
       "    <tr>\n",
       "      <th>75%</th>\n",
       "      <td>49.279840</td>\n",
       "      <td>-123.078926</td>\n",
       "      <td>49.279846</td>\n",
       "      <td>-123.078964</td>\n",
       "      <td>15.750000</td>\n",
       "      <td>50.471893</td>\n",
       "      <td>77.000000</td>\n",
       "      <td>77.000000</td>\n",
       "      <td>5312.543682</td>\n",
       "    </tr>\n",
       "    <tr>\n",
       "      <th>max</th>\n",
       "      <td>49.373573</td>\n",
       "      <td>-122.882744</td>\n",
       "      <td>49.374638</td>\n",
       "      <td>-122.882118</td>\n",
       "      <td>53.483333</td>\n",
       "      <td>2999.869118</td>\n",
       "      <td>85.000000</td>\n",
       "      <td>85.000000</td>\n",
       "      <td>27470.097214</td>\n",
       "    </tr>\n",
       "  </tbody>\n",
       "</table>\n",
       "</div>"
      ],
      "text/plain": [
       "           Start_lat      Start_lon        End_lat        End_lon  \\\n",
       "count  857665.000000  857665.000000  857665.000000  857665.000000   \n",
       "mean       49.264814    -123.106344      49.264806    -123.106378   \n",
       "std         0.023993       0.060168       0.024004       0.060232   \n",
       "min        49.190746    -123.259369      49.190746    -123.259369   \n",
       "25%        49.254513    -123.135872      49.254486    -123.135872   \n",
       "50%        49.266180    -123.111427      49.266170    -123.111488   \n",
       "75%        49.279840    -123.078926      49.279846    -123.078964   \n",
       "max        49.373573    -122.882744      49.374638    -122.882118   \n",
       "\n",
       "       Maps_duration  Real_duration     Fuel_start       Fuel_end  \\\n",
       "count  857665.000000  857665.000000  857665.000000  857665.000000   \n",
       "mean       12.043014      78.718924      56.775408      56.771567   \n",
       "std         7.045019     256.061423      21.734860      21.754699   \n",
       "min         0.166667       1.044289       9.000000       9.000000   \n",
       "25%         6.933333      18.927987      38.000000      38.000000   \n",
       "50%        10.683333      30.779362      58.000000      58.000000   \n",
       "75%        15.750000      50.471893      77.000000      77.000000   \n",
       "max        53.483333    2999.869118      85.000000      85.000000   \n",
       "\n",
       "            distance  \n",
       "count  857665.000000  \n",
       "mean     4038.456763  \n",
       "std      3277.408672  \n",
       "min       150.003114  \n",
       "25%      1781.417564  \n",
       "50%      3168.361026  \n",
       "75%      5312.543682  \n",
       "max     27470.097214  "
      ]
     },
     "execution_count": 19,
     "metadata": {},
     "output_type": "execute_result"
    }
   ],
   "source": [
    "dfGreatDistance.describe()"
   ]
  },
  {
   "cell_type": "code",
   "execution_count": 20,
   "metadata": {},
   "outputs": [
    {
     "data": {
      "text/html": [
       "<div>\n",
       "<style>\n",
       "    .dataframe thead tr:only-child th {\n",
       "        text-align: right;\n",
       "    }\n",
       "\n",
       "    .dataframe thead th {\n",
       "        text-align: left;\n",
       "    }\n",
       "\n",
       "    .dataframe tbody tr th {\n",
       "        vertical-align: top;\n",
       "    }\n",
       "</style>\n",
       "<table border=\"1\" class=\"dataframe\">\n",
       "  <thead>\n",
       "    <tr style=\"text-align: right;\">\n",
       "      <th></th>\n",
       "      <th>Start_time</th>\n",
       "      <th>End_time</th>\n",
       "      <th>Id</th>\n",
       "      <th>Start_lat</th>\n",
       "      <th>Start_lon</th>\n",
       "      <th>End_lat</th>\n",
       "      <th>End_lon</th>\n",
       "      <th>Maps_duration</th>\n",
       "      <th>Real_duration</th>\n",
       "      <th>Fuel_start</th>\n",
       "      <th>Fuel_end</th>\n",
       "      <th>distance</th>\n",
       "    </tr>\n",
       "  </thead>\n",
       "  <tbody>\n",
       "  </tbody>\n",
       "</table>\n",
       "</div>"
      ],
      "text/plain": [
       "Empty DataFrame\n",
       "Columns: [Start_time, End_time, Id, Start_lat, Start_lon, End_lat, End_lon, Maps_duration, Real_duration, Fuel_start, Fuel_end, distance]\n",
       "Index: []"
      ]
     },
     "execution_count": 20,
     "metadata": {},
     "output_type": "execute_result"
    }
   ],
   "source": [
    "# Foi retirado todas as viagens que sairam e chegaram no mesmo local ou proximo\n",
    "dfGreatDistance[(dfGreatDistance['End_lat']==dfGreatDistance['Start_lat']) & \n",
    "                (dfGreatDistance['End_lon']==dfGreatDistance['Start_lon'])]"
   ]
  },
  {
   "cell_type": "code",
   "execution_count": 21,
   "metadata": {},
   "outputs": [
    {
     "data": {
      "text/plain": [
       "[<matplotlib.lines.Line2D at 0x7fa2a39f3588>]"
      ]
     },
     "execution_count": 21,
     "metadata": {},
     "output_type": "execute_result"
    },
    {
     "data": {
      "image/png": "[encoded data removed]",
      "text/plain": [
       "<Figure size 432x288 with 1 Axes>"
      ]
     },
     "metadata": {},
     "output_type": "display_data"
    }
   ],
   "source": [
    "# CDF Maps duration\n",
    "# Retirando valores entre 0 e 1 do maps\n",
    "\n",
    "maps = pd.DataFrame()\n",
    "# maps['duration'] = Occupied_Diff[Occupied_Diff['maps_duration'] >= 0]['maps_duration']\n",
    "maps['duration'] = dfGreatDistance['Maps_duration']\n",
    "\n",
    "x_maps, y_maps = cdf(maps[maps['duration'] > 0].sort_values(by=['duration']))\n",
    "\n",
    "fig, ax = plt.subplots()\n",
    "\n",
    "ax.set_ylabel('ECDF')\n",
    "ax.set_xlabel('Tempo de Trajeto Maps [Minutos]')\n",
    "\n",
    "plt.plot(x_maps, y_maps)\n",
    "\n",
    "# plt.savefig('CDF_Maps.pdf', bbox_inches='tight')"
   ]
  },
  {
   "cell_type": "code",
   "execution_count": 22,
   "metadata": {},
   "outputs": [
    {
     "name": "stderr",
     "output_type": "stream",
     "text": [
      "/home/victor/anaconda3/lib/python3.6/site-packages/ipykernel_launcher.py:2: SettingWithCopyWarning: \n",
      "A value is trying to be set on a copy of a slice from a DataFrame.\n",
      "Try using .loc[row_indexer,col_indexer] = value instead\n",
      "\n",
      "See the caveats in the documentation: http://pandas.pydata.org/pandas-docs/stable/indexing.html#indexing-view-versus-copy\n",
      "  \n",
      "/home/victor/anaconda3/lib/python3.6/site-packages/matplotlib/axes/_base.py:3129: UserWarning: Attempted to set non-positive xlimits for log-scale axis; invalid limits will be ignored.\n",
      "  'Attempted to set non-positive xlimits for log-scale axis; '\n"
     ]
    },
    {
     "data": {
      "image/png": "[encoded data removed]",
      "text/plain": [
       "<Figure size 432x288 with 1 Axes>"
      ]
     },
     "metadata": {},
     "output_type": "display_data"
    }
   ],
   "source": [
    "# Comparação maps e tempo real em minutos e escala logaritma\n",
    "dfGreatDistance['duration'] = dfGreatDistance['Real_duration']\n",
    "x, y = cdf(dfGreatDistance.sort_values(by=['duration']))\n",
    "\n",
    "# plt.title('Comparação Duração Real x Duração Google Maps')\n",
    "\n",
    "plt.xscale('log')\n",
    "\n",
    "plt.ylabel('ECDF of rental duration')\n",
    "plt.xlabel('Busy time [minutes]')\n",
    "\n",
    "plt.plot(x_maps, y_maps, label='Maps')\n",
    "plt.plot(x,y, label='Real')\n",
    "\n",
    "plt.xlim(0,max(x))\n",
    "plt.ylim(0,1)\n",
    "\n",
    "plt.legend(loc=4, borderaxespad=0.2, frameon=False)\n",
    "\n",
    "# plt.show()\n",
    "plt.savefig('../plots/maps_real_comparacao.pdf', bbox_inches='tight')"
   ]
  },
  {
   "cell_type": "markdown",
   "metadata": {},
   "source": [
    "## Tarde e noite para dias de semana"
   ]
  },
  {
   "cell_type": "code",
   "execution_count": 23,
   "metadata": {
    "collapsed": true
   },
   "outputs": [],
   "source": [
    "tarde = []\n",
    "noite = []\n",
    "\n",
    "for i in range(len(Occupied_Diff)):\n",
    "    start = Occupied_Diff['Start_time'].iloc[i]\n",
    "    hora = start.hour\n",
    "    dia = int(start.strftime('%w'))\n",
    "    \n",
    "    if ((hora >= 7 and hora <= 10) and (dia > 0  and dia < 6)):\n",
    "        tarde.append([Occupied_Diff['Id'].iloc[i], Occupied_Diff['Start_time'].iloc[i], \n",
    "                      Occupied_Diff['duration'].iloc[i]])\n",
    "    elif ((hora >= 16 and hora <= 20) and (dia > 0  and dia < 6)):\n",
    "        noite.append([Occupied_Diff['Id'].iloc[i], Occupied_Diff['Start_time'].iloc[i], \n",
    "                      Occupied_Diff['duration'].iloc[i]])\n",
    "\n",
    "tarde = pd.DataFrame(tarde, columns=['car_id', 'start', 'duration'])\n",
    "noite = pd.DataFrame(noite, columns=['car_id', 'start', 'duration'])\n",
    "todos = Occupied_Diff"
   ]
  },
  {
   "cell_type": "code",
   "execution_count": 24,
   "metadata": {},
   "outputs": [
    {
     "data": {
      "text/plain": [
       "[<matplotlib.lines.Line2D at 0x7fa2a5979518>]"
      ]
     },
     "execution_count": 24,
     "metadata": {},
     "output_type": "execute_result"
    },
    {
     "data": {
      "image/png": "[encoded data removed]",
      "text/plain": [
       "<Figure size 432x288 with 1 Axes>"
      ]
     },
     "metadata": {},
     "output_type": "display_data"
    }
   ],
   "source": [
    "x, y = cdf(tarde.sort_values(by='duration'))\n",
    "plt.xscale('log')\n",
    "plt.title('Tarde')\n",
    "plt.plot(x,y)"
   ]
  },
  {
   "cell_type": "code",
   "execution_count": 25,
   "metadata": {
    "scrolled": true
   },
   "outputs": [
    {
     "data": {
      "text/plain": [
       "[<matplotlib.lines.Line2D at 0x7fa2b1d17080>]"
      ]
     },
     "execution_count": 25,
     "metadata": {},
     "output_type": "execute_result"
    },
    {
     "data": {
      "image/png": "[encoded data removed]",
      "text/plain": [
       "<Figure size 432x288 with 1 Axes>"
      ]
     },
     "metadata": {},
     "output_type": "display_data"
    }
   ],
   "source": [
    "x, y = cdf(noite.sort_values(by='duration'))\n",
    "plt.xscale('log')\n",
    "plt.title('Noite')\n",
    "plt.plot(x,y)"
   ]
  },
  {
   "cell_type": "code",
   "execution_count": 26,
   "metadata": {
    "collapsed": true
   },
   "outputs": [],
   "source": [
    "# Durações menores ou iguais que 28 horas\n",
    "# Em analise\n",
    "tarde = tarde[tarde['duration'] <= 28*60]\n",
    "noite = noite[noite['duration'] <= 28*60]\n",
    "todos = Occupied_Diff[Occupied_Diff['duration'] <= 28*60]"
   ]
  },
  {
   "cell_type": "code",
   "execution_count": 27,
   "metadata": {},
   "outputs": [
    {
     "name": "stderr",
     "output_type": "stream",
     "text": [
      "/home/victor/anaconda3/lib/python3.6/site-packages/matplotlib/axes/_base.py:3129: UserWarning: Attempted to set non-positive xlimits for log-scale axis; invalid limits will be ignored.\n",
      "  'Attempted to set non-positive xlimits for log-scale axis; '\n"
     ]
    },
    {
     "data": {
      "image/png": "[encoded data removed]",
      "text/plain": [
       "<Figure size 432x288 with 1 Axes>"
      ]
     },
     "metadata": {},
     "output_type": "display_data"
    }
   ],
   "source": [
    "matplotlib.rc('font', size=12)\n",
    "\n",
    "fig, ax = plt.subplots()\n",
    "\n",
    "x, y = cdf(tarde.sort_values(by='duration'))\n",
    "ax.plot(x,y, label='7 AM to 10 AM')# marker='o', markevery=[30,140,280,400,580,800,960,1010,1100])\n",
    "\n",
    "x, y = cdf(noite.sort_values(by='duration'))\n",
    "ax.plot(x,y, label='4 PM to 8 PM') #marker='s', markevery=[30,60,120,190,280,340,392,400,406])\n",
    "\n",
    "x, y = cdf(todos.sort_values(by='duration'))\n",
    "ax.plot(x,y, label='All day') #marker='^', markevery=[20,120,350,600,960,1400,2200,2800,3600,4300,4550])\n",
    "\n",
    "# Modificando os labels dos minutos\n",
    "ax.xaxis.set_ticks(np.arange(0, 1800, 180))\n",
    "\n",
    "\n",
    "fig.canvas.draw()\n",
    "\n",
    "# labels = [item.get_text() for item in ax.get_xticklabels()]\n",
    "# labels = range(0,30,3)\n",
    "\n",
    "# ax.set_xticklabels(labels)\n",
    "\n",
    "ax.legend(loc=4, borderaxespad=0.2, frameon=False)\n",
    "ax.set_ylabel('ECDF of rental duration')\n",
    "ax.set_xlabel('Busy time [minutes]')\n",
    "\n",
    "# plt.title('load peaks hours')\n",
    "plt.xscale('log')\n",
    "\n",
    "plt.xlim(0,max(x))\n",
    "plt.ylim(0,1)\n",
    "\n",
    "# plt.show()\n",
    "plt.savefig('../plots/tarde_noiteCDF_log.pdf')"
   ]
  }
 ],
 "metadata": {
  "kernelspec": {
   "display_name": "Python 3",
   "language": "python",
   "name": "python3"
  },
  "language_info": {
   "codemirror_mode": {
    "name": "ipython",
    "version": 3
   },
   "file_extension": ".py",
   "mimetype": "text/x-python",
   "name": "python",
   "nbconvert_exporter": "python",
   "pygments_lexer": "ipython3",
   "version": "3.6.1"
  }
 },
 "nbformat": 4,
 "nbformat_minor": 2
}
