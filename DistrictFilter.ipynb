{
 "cells": [
  {
   "cell_type": "code",
   "execution_count": 1,
   "metadata": {
    "collapsed": true
   },
   "outputs": [],
   "source": [
    "import geoplotlib\n",
    "from geoplotlib.utils import read_csv, BoundingBox, DataAccessObject\n",
    "import pandas as pd\n",
    "import datetime\n",
    "import json\n",
    "from shapely.geometry import shape, Point"
   ]
  },
  {
   "cell_type": "code",
   "execution_count": 2,
   "metadata": {
    "collapsed": true
   },
   "outputs": [],
   "source": [
    "travels = pd.read_csv('travels.csv')"
   ]
  },
  {
   "cell_type": "code",
   "execution_count": 3,
   "metadata": {
    "collapsed": true
   },
   "outputs": [],
   "source": [
    "# Nome dos geojsons a serem comparados com as coordenadas\n",
    "json_name = ['vancouver', 'burnaby', 'sea-island', 'new-westminster',\n",
    "             'north-vancouver', 'grousewoods', 'university']\n",
    "geojsons = []"
   ]
  },
  {
   "cell_type": "code",
   "execution_count": 4,
   "metadata": {
    "collapsed": true
   },
   "outputs": [],
   "source": [
    "for js in json_name:\n",
    "    with open('travels_hotmap/'+js+'.json') as json_data:\n",
    "        geojsons.append(json.load(json_data))"
   ]
  },
  {
   "cell_type": "code",
   "execution_count": null,
   "metadata": {},
   "outputs": [],
   "source": [
    "# Separando os nomes dos distritos e agrupando em regioes em comum \n",
    "names = []\n",
    "group = []\n",
    "count = 0\n",
    "for json in geojsons:\n",
    "    count += 1\n",
    "    for feature in json['features']:\n",
    "\n",
    "        name = feature['properties']['name']\n",
    "        \n",
    "        if (name not in names):\n",
    "            group.append(count)\n",
    "            names.append(feature['properties']['name'])\n",
    "            \n",
    "names = pd.DataFrame(names, columns=['name'])\n",
    "names['group'] = pd.DataFrame(group)"
   ]
  },
  {
   "cell_type": "code",
   "execution_count": 6,
   "metadata": {
    "collapsed": true
   },
   "outputs": [],
   "source": [
    "# Listando todas as possibilidades de saida e chegada\n",
    "\n",
    "links = []\n",
    "\n",
    "for i in range(len(names)):\n",
    "    for j in range(len(names)):\n",
    "        links.append([i,j])\n",
    "        \n",
    "links = pd.DataFrame(links, columns=['source', 'target'])\n",
    "links['value'] = [0]*len(links)"
   ]
  },
  {
   "cell_type": "code",
   "execution_count": null,
   "metadata": {},
   "outputs": [],
   "source": [
    "# Contando a quantidade de viagens para cada trajeto\n",
    "\n",
    "for (start_lon, start_lat, end_lon, end_lat, car_id) in zip(travels['Start_lon'], travels['Start_lat'], \n",
    "                                                    travels['End_lon'], travels['End_lat'], travels['Id']):\n",
    "        \n",
    "    start_point = Point(start_lon, start_lat)\n",
    "    end_point = Point(end_lon, end_lat)\n",
    "    start = end = None\n",
    "    found = False\n",
    "    \n",
    "    # Buscando em cada geojson se a viagem está em um certo distrito\n",
    "    \n",
    "    for json in geojsons:\n",
    "        if (not found):\n",
    "            \n",
    "            for feature in json['features']:\n",
    "                \n",
    "                polygon = shape(feature['geometry'])\n",
    "                \n",
    "                if polygon.contains(start_point):\n",
    "                    # Coletando o distrito de saida\n",
    "                    start = names[names['name'] == feature['properties']['name']].index[0]\n",
    "                    found = True\n",
    "                    break\n",
    "        else:\n",
    "            break\n",
    "                \n",
    "    found = False\n",
    "                \n",
    "    for json in geojsons:\n",
    "        if (not found):\n",
    "            \n",
    "            for feature in json['features']:\n",
    "                \n",
    "                polygon = shape(feature['geometry'])\n",
    "                \n",
    "                if polygon.contains(end_point):\n",
    "                    # Coletando o distrito de chegada\n",
    "                    end = names[names['name'] == feature['properties']['name']].index[0]\n",
    "                    found = True\n",
    "                    break\n",
    "                    \n",
    "        else:\n",
    "            break\n",
    "            \n",
    "                    \n",
    "    # Somando mais uma viagem no trajeto\n",
    "    links['value'].loc[(links['source'] == start) & (links['target'] == end)] += 1"
   ]
  },
  {
   "cell_type": "code",
   "execution_count": 9,
   "metadata": {
    "collapsed": true
   },
   "outputs": [],
   "source": [
    "links.to_csv('travels_hotmap/links.csv', index=False, encoding='utf-8')"
   ]
  },
  {
   "cell_type": "code",
   "execution_count": 12,
   "metadata": {
    "collapsed": true
   },
   "outputs": [],
   "source": [
    "links = pd.read_csv('travels_hotmap/links.csv')"
   ]
  },
  {
   "cell_type": "markdown",
   "metadata": {},
   "source": [
    "## Organizando os dados de viagens como um fluxo de índice da linha para o da coluna"
   ]
  },
  {
   "cell_type": "markdown",
   "metadata": {},
   "source": [
    "### Fluxo de todas as interações"
   ]
  },
  {
   "cell_type": "code",
   "execution_count": 22,
   "metadata": {
    "collapsed": true
   },
   "outputs": [],
   "source": [
    "flux = pd.DataFrame()\n",
    "for i in range(len(names)):\n",
    "    flux[i] = [0] * len(names)"
   ]
  },
  {
   "cell_type": "code",
   "execution_count": 23,
   "metadata": {
    "collapsed": true
   },
   "outputs": [],
   "source": [
    "for i in range(len(links)):\n",
    "    source = links['source'].iloc[i] \n",
    "    target = links['target'].iloc[i]\n",
    "    \n",
    "    flux[target].iloc[source] += links['value'].iloc[i]"
   ]
  },
  {
   "cell_type": "code",
   "execution_count": 24,
   "metadata": {
    "collapsed": true
   },
   "outputs": [],
   "source": [
    "flux.index = list(names['name'])\n",
    "flux.columns = list(names['name'])"
   ]
  },
  {
   "cell_type": "code",
   "execution_count": 28,
   "metadata": {
    "collapsed": true
   },
   "outputs": [],
   "source": [
    "flux.to_csv('travels_hotmap/flux.csv', sep=' ', encoding='utf-8')"
   ]
  },
  {
   "cell_type": "markdown",
   "metadata": {},
   "source": [
    "### Fluxo de viagens fora de Vancouver"
   ]
  },
  {
   "cell_type": "code",
   "execution_count": 14,
   "metadata": {
    "collapsed": true
   },
   "outputs": [],
   "source": [
    "flux = pd.DataFrame()\n",
    "for i in range(names['group'].max()):\n",
    "    flux[i] = [0] * names['group'].max()"
   ]
  },
  {
   "cell_type": "code",
   "execution_count": 15,
   "metadata": {
    "collapsed": true
   },
   "outputs": [],
   "source": [
    "for i in range(len(links)):\n",
    "    source = names['group'].iloc[links['source'].iloc[i]] - 1\n",
    "    target = names['group'].iloc[links['target'].iloc[i]] - 1\n",
    "    \n",
    "    flux[target].iloc[source] += links['value'].iloc[i]"
   ]
  },
  {
   "cell_type": "code",
   "execution_count": 16,
   "metadata": {
    "collapsed": true
   },
   "outputs": [],
   "source": [
    "flux.index = list(json_name)\n",
    "flux.columns = list(json_name)"
   ]
  },
  {
   "cell_type": "code",
   "execution_count": 17,
   "metadata": {
    "collapsed": true
   },
   "outputs": [],
   "source": [
    "flux.to_csv('travels_hotmap/fluxOutVancouver.csv', sep=' ', encoding='utf-8')"
   ]
  },
  {
   "cell_type": "markdown",
   "metadata": {},
   "source": [
    "### Fluxo de viagens dentro de Vancouver"
   ]
  },
  {
   "cell_type": "code",
   "execution_count": 18,
   "metadata": {
    "collapsed": true
   },
   "outputs": [],
   "source": [
    "districts = names[names['group'] == 1].index"
   ]
  },
  {
   "cell_type": "code",
   "execution_count": 19,
   "metadata": {
    "collapsed": true
   },
   "outputs": [],
   "source": [
    "flux = pd.DataFrame()\n",
    "for i in range(len(districts)):\n",
    "    flux[i] = [0] * len(districts)"
   ]
  },
  {
   "cell_type": "code",
   "execution_count": 20,
   "metadata": {
    "collapsed": true
   },
   "outputs": [],
   "source": [
    "links_districts = links[(links['source'] < len(districts)) & (links['target'] < len(districts))]\n",
    "for i in range(len(links_districts)):\n",
    "    source = links_districts['source'].iloc[i]\n",
    "    target = links_districts['target'].iloc[i]\n",
    "    \n",
    "    flux[target].iloc[source] += links_districts['value'].iloc[i]"
   ]
  },
  {
   "cell_type": "code",
   "execution_count": 21,
   "metadata": {
    "collapsed": true
   },
   "outputs": [],
   "source": [
    "flux.index = list(names[names['group'] == 1]['name'])\n",
    "flux.columns = list(names[names['group'] == 1]['name'])"
   ]
  },
  {
   "cell_type": "code",
   "execution_count": 22,
   "metadata": {
    "collapsed": true
   },
   "outputs": [],
   "source": [
    "flux.to_csv('travels_hotmap/fluxInVancouver.csv', sep=' ', encoding='utf-8')"
   ]
  }
 ],
 "metadata": {
  "kernelspec": {
   "display_name": "Python 3",
   "language": "python",
   "name": "python3"
  },
  "language_info": {
   "codemirror_mode": {
    "name": "ipython",
    "version": 3
   },
   "file_extension": ".py",
   "mimetype": "text/x-python",
   "name": "python",
   "nbconvert_exporter": "python",
   "pygments_lexer": "ipython3",
   "version": "3.6.1"
  }
 },
 "nbformat": 4,
 "nbformat_minor": 2
}
