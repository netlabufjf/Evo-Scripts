{
 "cells": [
  {
   "cell_type": "code",
   "execution_count": 1,
   "metadata": {
    "collapsed": true
   },
   "outputs": [],
   "source": [
    "%matplotlib inline\n",
    "import pandas as pd\n",
    "import matplotlib\n",
    "import numpy as np\n",
    "import matplotlib.pyplot as plt\n",
    "import datetime\n",
    "import math"
   ]
  },
  {
   "cell_type": "code",
   "execution_count": null,
   "metadata": {
    "collapsed": true
   },
   "outputs": [
    {
     "name": "stdout",
     "output_type": "stream",
     "text": [
      "Reading CSV...\n",
      "2018-12-12 07:37:33.592428\n"
     ]
    }
   ],
   "source": [
    "columns = ['Capture_time', 'Id']\n",
    "print('Reading CSV...')\n",
    "print(datetime.datetime.now())\n",
    "\n",
    "data = pd.read_csv('../evo_data_menor.csv', usecols=columns, nrows=30000000)\n",
    "\n",
    "print(datetime.datetime.now())\n",
    "print('Finish\\n')"
   ]
  },
  {
   "cell_type": "code",
   "execution_count": null,
   "metadata": {
    "collapsed": true
   },
   "outputs": [],
   "source": [
    "data.head()"
   ]
  },
  {
   "cell_type": "code",
   "execution_count": 4,
   "metadata": {},
   "outputs": [
    {
     "name": "stdout",
     "output_type": "stream",
     "text": [
      "Data len before remove uncommon ids: 30000000\n",
      "Data len after remove uncommon ids: 29999500\n"
     ]
    }
   ],
   "source": [
    "# Colleting vehicle ids\n",
    "car_ids = list(data.Id.unique())\n",
    "\n",
    "# Removing uncommon ids\n",
    "# Ex: 4c5865a3-4b03-40f6-a3a8-d4e94aae3b17\n",
    "ids_uncommon = [id for id in car_ids if id.find('-') != -1]\n",
    "car_ids = [id for id in car_ids if id.find('-') == -1]\n",
    "\n",
    "print('Data len before remove uncommon ids: '+str(len(data)))\n",
    "data = data[~data.Id.isin(ids_uncommon)]\n",
    "print('Data len after remove uncommon ids: '+str(len(data)))"
   ]
  },
  {
   "cell_type": "code",
   "execution_count": 2,
   "metadata": {
    "collapsed": true
   },
   "outputs": [],
   "source": [
    "def str_to_datetime(df_time):\n",
    "    \"\"\" \n",
    "    Reformatando de string para datetime.\n",
    "    \n",
    "    Parameters\n",
    "    ----------\n",
    "    df_time : pandas.DataFrame, string\n",
    "        Dataframe com strings a serem convertidas para datetime.\n",
    "    \n",
    "    Returns\n",
    "    ----------\n",
    "    date_list : pandas.DataFrame, datetime\n",
    "        Dataframe com valores em datetime para possíveis fusos de Vancouver.\n",
    "    \n",
    "    \"\"\"\n",
    "    date_list = []\n",
    "    \n",
    "    # Formatos de fuso horário comum de Vancouver e \n",
    "    # fuso horário característico de horário de verão\n",
    "    format_string = ['%Y-%m-%d %H:%M:%S.%f-08:00', '%Y-%m-%d %H:%M:%S.%f-07:00',\n",
    "                     '%Y-%m-%d %H:%M:%S-08:00', '%Y-%m-%d %H:%M:%S-07:00']\n",
    "    \n",
    "    \n",
    "    for date in df_time:\n",
    "        erro = True\n",
    "        for fmt in format_string:\n",
    "            try:\n",
    "                date_list.append(datetime.datetime.strptime(str(date), fmt))\n",
    "                erro = False\n",
    "                break\n",
    "            except:\n",
    "                pass\n",
    "        if erro:\n",
    "            print('Erro in: '+str(date))\n",
    "            \n",
    "    \n",
    "    return pd.DataFrame(date_list)"
   ]
  },
  {
   "cell_type": "code",
   "execution_count": 6,
   "metadata": {
    "collapsed": true
   },
   "outputs": [
    {
     "name": "stdout",
     "output_type": "stream",
     "text": [
      "Date strings to Datetime type\n",
      "\n"
     ]
    }
   ],
   "source": [
    "print('Date strings to Datetime type\\n')\n",
    "data['Capture_time'] = str_to_datetime(data['Capture_time'])"
   ]
  },
  {
   "cell_type": "code",
   "execution_count": null,
   "metadata": {
    "collapsed": true
   },
   "outputs": [
    {
     "data": {
      "text/html": [
       "<div>\n",
       "<style>\n",
       "    .dataframe thead tr:only-child th {\n",
       "        text-align: right;\n",
       "    }\n",
       "\n",
       "    .dataframe thead th {\n",
       "        text-align: left;\n",
       "    }\n",
       "\n",
       "    .dataframe tbody tr th {\n",
       "        vertical-align: top;\n",
       "    }\n",
       "</style>\n",
       "<table border=\"1\" class=\"dataframe\">\n",
       "  <thead>\n",
       "    <tr style=\"text-align: right;\">\n",
       "      <th></th>\n",
       "      <th>Capture_time</th>\n",
       "      <th>Id</th>\n",
       "    </tr>\n",
       "  </thead>\n",
       "  <tbody>\n",
       "    <tr>\n",
       "      <th>0</th>\n",
       "      <td>2018-03-01 08:24:51.795031</td>\n",
       "      <td>JTDKDTB31J1599606</td>\n",
       "    </tr>\n",
       "    <tr>\n",
       "      <th>1</th>\n",
       "      <td>2018-03-01 08:24:51.795031</td>\n",
       "      <td>JTDKDTB31H1597557</td>\n",
       "    </tr>\n",
       "    <tr>\n",
       "      <th>2</th>\n",
       "      <td>2018-03-01 08:24:51.795031</td>\n",
       "      <td>JTDKDTB36E1079858</td>\n",
       "    </tr>\n",
       "    <tr>\n",
       "      <th>3</th>\n",
       "      <td>2018-03-01 08:24:51.795031</td>\n",
       "      <td>JTDKDTB33F1101042</td>\n",
       "    </tr>\n",
       "    <tr>\n",
       "      <th>4</th>\n",
       "      <td>2018-03-01 08:24:51.795031</td>\n",
       "      <td>JTDKDTB32G1118514</td>\n",
       "    </tr>\n",
       "  </tbody>\n",
       "</table>\n",
       "</div>"
      ],
      "text/plain": [
       "                Capture_time                 Id\n",
       "0 2018-03-01 08:24:51.795031  JTDKDTB31J1599606\n",
       "1 2018-03-01 08:24:51.795031  JTDKDTB31H1597557\n",
       "2 2018-03-01 08:24:51.795031  JTDKDTB36E1079858\n",
       "3 2018-03-01 08:24:51.795031  JTDKDTB33F1101042\n",
       "4 2018-03-01 08:24:51.795031  JTDKDTB32G1118514"
      ]
     },
     "execution_count": 7,
     "metadata": {},
     "output_type": "execute_result"
    }
   ],
   "source": [
    "data.head()"
   ]
  },
  {
   "cell_type": "code",
   "execution_count": null,
   "metadata": {},
   "outputs": [
    {
     "name": "stdout",
     "output_type": "stream",
     "text": [
      "2018-12-10 14:08:38.509259\n"
     ]
    }
   ],
   "source": [
    "print(datetime.datetime.now())\n",
    "\n",
    "data = data.sort_values(by='Capture_time')\n",
    "# Series with each collected minute\n",
    "dates = pd.Series(data.Capture_time.unique())\n",
    "busy_weekdays = []\n",
    "busy_weekends = []\n",
    "\n",
    "# Going through each date in order to count the number of cars in travel.\n",
    "for dt in dates:\n",
    "    parked = len(data[data['Capture_time'] == dt])\n",
    "    in_travel = len(car_ids) - parked\n",
    "    percentage = (in_travel/len(car_ids))*100\n",
    "    \n",
    "    # Sorting out per week day\n",
    "    if dt.weekday() <= 4: # Monday == 0 .. Sunday == 6\n",
    "        busy_weekdays.append([int(dt.timestamp()), in_travel, percentage])\n",
    "    else: \n",
    "        busy_weekends.append([int(dt.timestamp()), in_travel, percentage])\n",
    "        \n",
    "\n",
    "dfIn_Travel_weekdays = pd.DataFrame(busy_weekdays, columns=['capture_time', 'total_in_travel', 'percentage'])\n",
    "dfIn_Travel_weekends = pd.DataFrame(busy_weekends, columns=['capture_time', 'total_in_travel', 'percentage'])\n",
    "\n",
    "print(datetime.datetime.now())"
   ]
  },
  {
   "cell_type": "code",
   "execution_count": 3,
   "metadata": {
    "collapsed": true
   },
   "outputs": [],
   "source": [
    "def from_timestamp_list(timestamp_list):\n",
    "    \n",
    "    datetime_list = []\n",
    "    \n",
    "    for date in timestamp_list:\n",
    "        datetime_list.append(datetime.datetime.fromtimestamp(int(date)))\n",
    "    \n",
    "    return pd.DataFrame(datetime_list)"
   ]
  },
  {
   "cell_type": "code",
   "execution_count": 73,
   "metadata": {
    "collapsed": true
   },
   "outputs": [],
   "source": [
    "# Formatando os dados de unix timestamp para datetime\n",
    "\n",
    "dfWeekdays = dfIn_Travel_weekdays\n",
    "\n",
    "dfWeekdays['capture_time'] = from_timestamp_list(dfWeekdays['capture_time'])    \n",
    "    \n",
    "    \n",
    "dfWeekends = dfIn_Travel_weekends\n",
    "\n",
    "dfWeekends['capture_time'] = from_timestamp_list(dfWeekends['capture_time'])"
   ]
  },
  {
   "cell_type": "code",
   "execution_count": null,
   "metadata": {
    "collapsed": true
   },
   "outputs": [],
   "source": [
    "# Plot da porcentagem de carros alocados em dias de semana\n",
    "plt.plot(dfWeekdays['capture_time'],dfWeekdays['percentage'])\n",
    "plt.gcf().autofmt_xdate()\n",
    "plt.show()"
   ]
  },
  {
   "cell_type": "code",
   "execution_count": null,
   "metadata": {
    "collapsed": true
   },
   "outputs": [],
   "source": [
    "# Plot da porcentagem de carros alocados em dias de final de semana\n",
    "plt.plot(dfWeekends['capture_time'],dfWeekends['percentage'])\n",
    "plt.gcf().autofmt_xdate()\n",
    "plt.show()"
   ]
  },
  {
   "cell_type": "code",
   "execution_count": 13,
   "metadata": {
    "collapsed": true
   },
   "outputs": [],
   "source": [
    "dfWeekends.to_csv('weekends.csv', index=False, encoding='utf-8')\n",
    "dfWeekdays.to_csv('weekdays.csv', index=False, encoding='utf-8')"
   ]
  },
  {
   "cell_type": "code",
   "execution_count": 2,
   "metadata": {
    "collapsed": true
   },
   "outputs": [],
   "source": [
    "dfWeekdays = pd.read_csv('../evo-plots/weekdays_dec.csv')\n",
    "dfWeekends = pd.read_csv('../evo-plots/weekends_dec.csv')"
   ]
  },
  {
   "cell_type": "code",
   "execution_count": 3,
   "metadata": {
    "collapsed": true,
    "scrolled": true
   },
   "outputs": [],
   "source": [
    "dfWeekdays['capture_time'] = pd.to_datetime(dfWeekdays['capture_time'])\n",
    "dfWeekends['capture_time'] = pd.to_datetime(dfWeekends['capture_time'])"
   ]
  },
  {
   "cell_type": "code",
   "execution_count": 4,
   "metadata": {
    "collapsed": true
   },
   "outputs": [],
   "source": [
    "def media(df):\n",
    "    # Estrutura de todos os minutos de um dia\n",
    "    minutes = pd.date_range(start='2016-12-31 00:00:00', end='2016-12-31 23:59:00', freq='min')\n",
    "    minutos = minutes.time\n",
    "\n",
    "    # Cria estrutura para contabilizar a quantidade de carros por minuto e \n",
    "    # a quantidade daquele minuto que tem carros\n",
    "    result = {}\n",
    "\n",
    "    for reg in df.values:\n",
    "        indice = str(reg[0].hour)+':'+str(reg[0].minute)\n",
    "        #tem o indice?\n",
    "        if not indice in result:\n",
    "            result[indice] = [0,0]\n",
    "\n",
    "        if (reg[2] > 0):\n",
    "            result[indice][0] += reg[2]\n",
    "            result[indice][1] += 1\n",
    "\n",
    "    # Cria uma estrutura para contabilizar a variância\n",
    "    desvio = {}\n",
    "\n",
    "    for reg in df.values:\n",
    "        indice = str(reg[0].hour)+':'+str(reg[0].minute)\n",
    "        #tem o indice?\n",
    "        if not indice in desvio:\n",
    "            desvio[indice] = 0.0\n",
    "\n",
    "        if (reg[2] > 0):\n",
    "            media = result[indice][0]/result[indice][1]\n",
    "            std = ((reg[2]-media)**2)/result[indice][1]\n",
    "            desvio[indice] += std\n",
    "\n",
    "\n",
    "    for reg in desvio:\n",
    "        desvio[reg] = math.sqrt(desvio[reg])\n",
    "\n",
    "    compilado_booked = []\n",
    "\n",
    "    for reg in result:\n",
    "        media = result[reg][0]/result[reg][1]\n",
    "        compilado_booked.append([reg, media, desvio[reg]])\n",
    "\n",
    "    df_compilado_booked = pd.DataFrame(compilado_booked, \n",
    "                                                columns=['time','mean','std'])\n",
    "    # muda tipo do dado\n",
    "    df_compilado_booked['time'] = pd.to_datetime(df_compilado_booked['time'], \n",
    "                                                          format=\"%H:%M\")\n",
    "    # ordena por minuto\n",
    "    df_compilado_booked = df_compilado_booked.sort_values(by=['time'])\n",
    "    \n",
    "    return df_compilado_booked"
   ]
  },
  {
   "cell_type": "code",
   "execution_count": 5,
   "metadata": {
    "scrolled": true
   },
   "outputs": [
    {
     "name": "stdout",
     "output_type": "stream",
     "text": [
      "Media\n",
      "2018-12-20 10:43:08.808482\n",
      "2018-12-20 10:43:11.036436\n"
     ]
    }
   ],
   "source": [
    "# Fazendo a média das porcentagens de cada dia\n",
    "print('Media')\n",
    "print(datetime.datetime.now())\n",
    "\n",
    "dfWeekdays = dfWeekdays.sort_values(by='capture_time')\n",
    "mediaWeekdays = media(dfWeekdays)\n",
    "\n",
    "dfWeekends = dfWeekends.sort_values(by='capture_time')\n",
    "mediaWeekends = media(dfWeekends)\n",
    "print(datetime.datetime.now())"
   ]
  },
  {
   "cell_type": "code",
   "execution_count": 14,
   "metadata": {
    "collapsed": true
   },
   "outputs": [],
   "source": [
    "mediaWeekdays.to_csv('../evo-plots/mediaWeekdays.csv', index=False, encoding='utf-8')\n",
    "mediaWeekends.to_csv('../evo-plots/mediaWeekends.csv', index=False, encoding='utf-8')"
   ]
  },
  {
   "cell_type": "code",
   "execution_count": 5,
   "metadata": {
    "collapsed": true
   },
   "outputs": [],
   "source": [
    "mediaWeekdays = pd.read_csv('../evo-plots/mediaWeekdays.csv')\n",
    "mediaWeekends = pd.read_csv('../evo-plots/mediaWeekends.csv')"
   ]
  },
  {
   "cell_type": "markdown",
   "metadata": {},
   "source": [
    "Now counting the number of travels that effectvely was concluded"
   ]
  },
  {
   "cell_type": "code",
   "execution_count": 75,
   "metadata": {
    "collapsed": true
   },
   "outputs": [],
   "source": [
    "travels = pd.read_csv('../evo-plots/travels_id_tratado.csv')"
   ]
  },
  {
   "cell_type": "code",
   "execution_count": 7,
   "metadata": {
    "collapsed": true
   },
   "outputs": [],
   "source": [
    "# Função para calcular distancia entre coordenadas\n",
    "def haversine(lon1, lat1, lon2, lat2):\n",
    "\n",
    "    lon1, lat1, lon2, lat2 = map(np.radians, [lon1, lat1, lon2, lat2])\n",
    "\n",
    "    dlon = lon2 - lon1\n",
    "    dlat = lat2 - lat1\n",
    "\n",
    "    a = np.sin(dlat/2.0)**2 + np.cos(lat1) * np.cos(lat2) * np.sin(dlon/2.0)**2\n",
    "\n",
    "    c = 2 * np.arcsin(np.sqrt(a))\n",
    "    m = 6367 * c * 1000\n",
    "\n",
    "    return m"
   ]
  },
  {
   "cell_type": "code",
   "execution_count": 8,
   "metadata": {
    "collapsed": true
   },
   "outputs": [],
   "source": [
    "# Adicionando valor de distancia no dataframe\n",
    "distance = []\n",
    "for i in range(len(travels)):\n",
    "    distance.append(haversine(travels['Start_lon'].iloc[i],travels['Start_lat'].iloc[i],\n",
    "                              travels['End_lon'].iloc[i],travels['End_lat'].iloc[i]))\n",
    "travels['distance'] = distance"
   ]
  },
  {
   "cell_type": "code",
   "execution_count": 15,
   "metadata": {
    "collapsed": true
   },
   "outputs": [],
   "source": [
    "travels.to_csv('../evo-plots/travels_distance.csv', index=False, encoding='utf-8')"
   ]
  },
  {
   "cell_type": "code",
   "execution_count": 3,
   "metadata": {
    "collapsed": true
   },
   "outputs": [],
   "source": [
    "travels = pd.read_csv('../evo-plots/travels_distance.csv')"
   ]
  },
  {
   "cell_type": "code",
   "execution_count": 76,
   "metadata": {
    "collapsed": true
   },
   "outputs": [],
   "source": [
    "# only travels with more than 30 minutes of duration, that is the limit of cancellation of a reserve\n",
    "travels = travels[(travels['duration'] > 30) | (travels['distance'] > 3)]"
   ]
  },
  {
   "cell_type": "code",
   "execution_count": 12,
   "metadata": {
    "collapsed": true
   },
   "outputs": [],
   "source": [
    "travels.to_csv('../evo-plots/travels_id_tratado.csv', index=False, encoding='utf-8')"
   ]
  },
  {
   "cell_type": "code",
   "execution_count": 77,
   "metadata": {
    "collapsed": true
   },
   "outputs": [],
   "source": [
    "travels['Start_time'] = pd.to_datetime(travels['Start_time'])\n",
    "travels['End_time'] = pd.to_datetime(travels['End_time'])"
   ]
  },
  {
   "cell_type": "code",
   "execution_count": 11,
   "metadata": {
    "collapsed": true
   },
   "outputs": [],
   "source": [
    "# Removing uncommon ids\n",
    "# Ex: 4c5865a3-4b03-40f6-a3a8-d4e94aae3b17\n",
    "car_ids = [id for id in travels.Id.unique() if id.find('-') == -1]# Coletando os ids dos veículos\n",
    "\n",
    "travels = travels[travels.Id.isin(car_ids)]"
   ]
  },
  {
   "cell_type": "code",
   "execution_count": 21,
   "metadata": {
    "collapsed": true
   },
   "outputs": [],
   "source": [
    "def cont_busy(df, period):\n",
    "    \n",
    "    busy = []\n",
    "    idle = []\n",
    "    \n",
    "    # Vehicle id list in order to make a percentage of busy cars in each minute\n",
    "    car_ids = df.Id.unique()\n",
    "    n_cars = len(car_ids)\n",
    "    \n",
    "    # Going through each collected minute\n",
    "    for dt in period:\n",
    "        # Counting the number of travels that this minute is included\n",
    "#         in_travel = len(df[(df['Start_time'] <= dt) & (dt <= df['End_time'])].Id.unique())\n",
    "        in_travel = len(df[(df['Start_time'] <= dt) & (dt < df['End_time'])].Id.unique())\n",
    "        percentage = (in_travel/n_cars) * 100\n",
    "        \n",
    "        busy.append([dt, in_travel, percentage])\n",
    "        \n",
    "    return pd.DataFrame(busy, columns=['capture_time','count','percentage'])"
   ]
  },
  {
   "cell_type": "code",
   "execution_count": 14,
   "metadata": {
    "collapsed": true
   },
   "outputs": [],
   "source": [
    "# All the minutes since the start of the data, in other words, the collected period\n",
    "minutes = pd.date_range(travels.Start_time.min(), travels.End_time.max(), freq='min')"
   ]
  },
  {
   "cell_type": "code",
   "execution_count": 15,
   "metadata": {},
   "outputs": [
    {
     "data": {
      "text/html": [
       "<div>\n",
       "<style>\n",
       "    .dataframe thead tr:only-child th {\n",
       "        text-align: right;\n",
       "    }\n",
       "\n",
       "    .dataframe thead th {\n",
       "        text-align: left;\n",
       "    }\n",
       "\n",
       "    .dataframe tbody tr th {\n",
       "        vertical-align: top;\n",
       "    }\n",
       "</style>\n",
       "<table border=\"1\" class=\"dataframe\">\n",
       "  <thead>\n",
       "    <tr style=\"text-align: right;\">\n",
       "      <th></th>\n",
       "      <th>Id</th>\n",
       "      <th>Start_time</th>\n",
       "      <th>Start_lat</th>\n",
       "      <th>Start_lon</th>\n",
       "      <th>Fuel_start</th>\n",
       "      <th>End_time</th>\n",
       "      <th>End_lat</th>\n",
       "      <th>End_lon</th>\n",
       "      <th>Fuel_end</th>\n",
       "      <th>duration</th>\n",
       "      <th>distance</th>\n",
       "    </tr>\n",
       "  </thead>\n",
       "  <tbody>\n",
       "    <tr>\n",
       "      <th>0</th>\n",
       "      <td>JTDKDTB32G1589000</td>\n",
       "      <td>2018-03-01 12:42:24.630568</td>\n",
       "      <td>49.225563</td>\n",
       "      <td>-122.894234</td>\n",
       "      <td>84</td>\n",
       "      <td>2018-03-01 13:21:04.095771</td>\n",
       "      <td>49.314045</td>\n",
       "      <td>-123.083481</td>\n",
       "      <td>84</td>\n",
       "      <td>38.657753</td>\n",
       "      <td>1.688120e+04</td>\n",
       "    </tr>\n",
       "    <tr>\n",
       "      <th>1</th>\n",
       "      <td>JTDKDTB32G1589000</td>\n",
       "      <td>2018-03-01 18:09:30.383898</td>\n",
       "      <td>49.314045</td>\n",
       "      <td>-123.083481</td>\n",
       "      <td>84</td>\n",
       "      <td>2018-03-01 18:33:40.410390</td>\n",
       "      <td>49.314045</td>\n",
       "      <td>-123.083481</td>\n",
       "      <td>84</td>\n",
       "      <td>24.167108</td>\n",
       "      <td>0.000000e+00</td>\n",
       "    </tr>\n",
       "    <tr>\n",
       "      <th>2</th>\n",
       "      <td>JTDKDTB32G1589000</td>\n",
       "      <td>2018-03-01 18:36:09.073847</td>\n",
       "      <td>49.314045</td>\n",
       "      <td>-123.083481</td>\n",
       "      <td>84</td>\n",
       "      <td>2018-03-01 20:24:36.451198</td>\n",
       "      <td>49.315067</td>\n",
       "      <td>-123.083481</td>\n",
       "      <td>83</td>\n",
       "      <td>108.456289</td>\n",
       "      <td>1.136032e+02</td>\n",
       "    </tr>\n",
       "    <tr>\n",
       "      <th>3</th>\n",
       "      <td>JTDKDTB32G1589000</td>\n",
       "      <td>2018-03-01 20:39:21.714875</td>\n",
       "      <td>49.315067</td>\n",
       "      <td>-123.083481</td>\n",
       "      <td>83</td>\n",
       "      <td>2018-03-01 21:09:48.876096</td>\n",
       "      <td>49.315067</td>\n",
       "      <td>-123.083481</td>\n",
       "      <td>83</td>\n",
       "      <td>30.452687</td>\n",
       "      <td>7.068790e-10</td>\n",
       "    </tr>\n",
       "    <tr>\n",
       "      <th>4</th>\n",
       "      <td>JTDKDTB32G1589000</td>\n",
       "      <td>2018-03-01 21:12:05.647857</td>\n",
       "      <td>49.315067</td>\n",
       "      <td>-123.083481</td>\n",
       "      <td>83</td>\n",
       "      <td>2018-03-01 21:15:26.307443</td>\n",
       "      <td>49.315067</td>\n",
       "      <td>-123.083481</td>\n",
       "      <td>83</td>\n",
       "      <td>3.344326</td>\n",
       "      <td>7.068790e-10</td>\n",
       "    </tr>\n",
       "  </tbody>\n",
       "</table>\n",
       "</div>"
      ],
      "text/plain": [
       "                  Id                 Start_time  Start_lat   Start_lon  \\\n",
       "0  JTDKDTB32G1589000 2018-03-01 12:42:24.630568  49.225563 -122.894234   \n",
       "1  JTDKDTB32G1589000 2018-03-01 18:09:30.383898  49.314045 -123.083481   \n",
       "2  JTDKDTB32G1589000 2018-03-01 18:36:09.073847  49.314045 -123.083481   \n",
       "3  JTDKDTB32G1589000 2018-03-01 20:39:21.714875  49.315067 -123.083481   \n",
       "4  JTDKDTB32G1589000 2018-03-01 21:12:05.647857  49.315067 -123.083481   \n",
       "\n",
       "   Fuel_start                   End_time    End_lat     End_lon  Fuel_end  \\\n",
       "0          84 2018-03-01 13:21:04.095771  49.314045 -123.083481        84   \n",
       "1          84 2018-03-01 18:33:40.410390  49.314045 -123.083481        84   \n",
       "2          84 2018-03-01 20:24:36.451198  49.315067 -123.083481        83   \n",
       "3          83 2018-03-01 21:09:48.876096  49.315067 -123.083481        83   \n",
       "4          83 2018-03-01 21:15:26.307443  49.315067 -123.083481        83   \n",
       "\n",
       "     duration      distance  \n",
       "0   38.657753  1.688120e+04  \n",
       "1   24.167108  0.000000e+00  \n",
       "2  108.456289  1.136032e+02  \n",
       "3   30.452687  7.068790e-10  \n",
       "4    3.344326  7.068790e-10  "
      ]
     },
     "execution_count": 15,
     "metadata": {},
     "output_type": "execute_result"
    }
   ],
   "source": [
    "travels.head()"
   ]
  },
  {
   "cell_type": "code",
   "execution_count": 78,
   "metadata": {
    "collapsed": true
   },
   "outputs": [],
   "source": [
    "weekdays = travels[travels['Start_time'].dt.weekday <= 4]\n",
    "weekends = travels[travels['Start_time'].dt.weekday > 4]"
   ]
  },
  {
   "cell_type": "code",
   "execution_count": 81,
   "metadata": {
    "collapsed": true
   },
   "outputs": [],
   "source": [
    "weekends_busy = cont_busy(weekends, minutes)\n",
    "weekdays_busy = cont_busy(weekdays, minutes)"
   ]
  },
  {
   "cell_type": "code",
   "execution_count": 82,
   "metadata": {
    "collapsed": true
   },
   "outputs": [],
   "source": [
    "weekdays_travels_mean = media(weekdays_busy)\n",
    "weekends_travels_mean = media(weekends_busy)"
   ]
  },
  {
   "cell_type": "code",
   "execution_count": 83,
   "metadata": {},
   "outputs": [
    {
     "data": {
      "image/png": "[encoded data removed]",
      "text/plain": [
       "<Figure size 432x288 with 1 Axes>"
      ]
     },
     "metadata": {},
     "output_type": "display_data"
    }
   ],
   "source": [
    "\n",
    "# Plot da media das porcentagens dos dias de semana\n",
    "fig, ax = plt.subplots()\n",
    "# Curva dos carros andando\n",
    "ax.plot(range(len(mediaWeekdays['time'])),mediaWeekdays['mean'], label='Reserved Cars')\n",
    "\n",
    "# Curvas representando o intervalo de desvio padrão\n",
    "ax.fill_between(range(len(mediaWeekdays['time'])),mediaWeekdays['mean']+mediaWeekdays['std'], \n",
    "                mediaWeekdays['mean']-mediaWeekdays['std'], facecolor='#8faee0', alpha=0.6)\n",
    "\n",
    "plt.plot(range(len(weekdays_travels_mean['time'])),weekdays_travels_mean['mean'], label='Busy Cars')\n",
    "\n",
    "# Curvas representando o intervalo de desvio padrão\n",
    "plt.fill_between(range(len(weekdays_travels_mean['time'])),weekdays_travels_mean['mean']+weekdays_travels_mean['std'], \n",
    "                weekdays_travels_mean['mean']-weekdays_travels_mean['std'], alpha=0.6)\n",
    "\n",
    "\n",
    "# Modificando os labels das horas\n",
    "ax.xaxis.set_ticks(np.arange(0, 1441, 120))\n",
    "\n",
    "fig.canvas.draw()\n",
    "\n",
    "labels = [item.get_text() for item in ax.get_xticklabels()]\n",
    "labels = range(0,26,2)\n",
    "\n",
    "ax.set_xticklabels(labels)\n",
    "\n",
    "# Y axis between 0%-100%\n",
    "ax.set_ylim([0,100])\n",
    "\n",
    "ax.set_xlim([0,1441])\n",
    "\n",
    "# Legendas e label dos eixos\n",
    "plt.legend(loc=2, borderaxespad=0.2, frameon=False)\n",
    "plt.ylabel('Percentage')\n",
    "plt.xlabel('Hour')\n",
    "\n",
    "# Salvando o plot\n",
    "# plt.savefig('../Weekdays_test.pdf', bbox_inches='tight')\n",
    "\n",
    "plt.show()"
   ]
  },
  {
   "cell_type": "code",
   "execution_count": 72,
   "metadata": {
    "scrolled": true
   },
   "outputs": [
    {
     "data": {
      "image/png": "[encoded data removed]",
      "text/plain": [
       "<Figure size 432x288 with 1 Axes>"
      ]
     },
     "metadata": {},
     "output_type": "display_data"
    }
   ],
   "source": [
    "\n",
    "# Plot da media das porcentagens dos dias de semana\n",
    "fig, ax = plt.subplots()\n",
    "# Curva dos carros andando\n",
    "ax.plot(range(len(mediaWeekends['time'])),mediaWeekends['mean'], label='Reserved Cars')\n",
    "\n",
    "# Curvas representando o intervalo de desvio padrão\n",
    "ax.fill_between(range(len(mediaWeekends['time'])),mediaWeekends['mean']+mediaWeekends['std'], \n",
    "                mediaWeekends['mean']-mediaWeekends['std'], facecolor='#8faee0', alpha=0.6)\n",
    "\n",
    "plt.plot(range(len(weekends_travels_mean['time'])),weekends_travels_mean['mean'], label='Busy Cars')\n",
    "\n",
    "\n",
    "# Modificando os labels das horas\n",
    "ax.xaxis.set_ticks(np.arange(0, 1441, 120))\n",
    "\n",
    "fig.canvas.draw()\n",
    "\n",
    "labels = [item.get_text() for item in ax.get_xticklabels()]\n",
    "labels = range(0,26,2)\n",
    "\n",
    "ax.set_xticklabels(labels)\n",
    "\n",
    "# Y axis between 0%-100%\n",
    "ax.set_ylim([0,100])\n",
    "\n",
    "ax.set_xlim([0,1441])\n",
    "\n",
    "# Legendas e label dos eixos\n",
    "plt.legend(loc=2, borderaxespad=0.2, frameon=False)\n",
    "plt.ylabel('Percentage')\n",
    "plt.xlabel('Hour')\n",
    "\n",
    "# Salvando o plot\n",
    "# plt.savefig('../Weekends_test.pdf', bbox_inches='tight')\n",
    "\n",
    "plt.show()"
   ]
  },
  {
   "cell_type": "code",
   "execution_count": 16,
   "metadata": {},
   "outputs": [
    {
     "data": {
      "image/png": "[encoded data removed]",
      "text/plain": [
       "<Figure size 1008x324 with 2 Axes>"
      ]
     },
     "metadata": {},
     "output_type": "display_data"
    },
    {
     "data": {
      "text/plain": [
       "<Figure size 432x288 with 0 Axes>"
      ]
     },
     "metadata": {},
     "output_type": "display_data"
    }
   ],
   "source": [
    "\n",
    "matplotlib.rc('font', size=12)\n",
    "\n",
    "# Plot das porcentagens dos fins de semana\n",
    "fig, (ax1, ax2) = plt.subplots(1, 2)\n",
    "\n",
    "fig.set_size_inches(14,4.5)\n",
    "\n",
    "\n",
    "\n",
    "# Curva dos carros andando\n",
    "\n",
    "ax1.plot(range(len(mediaWeekdays['time'])),mediaWeekdays['mean'], label='Carros Ocupados')\n",
    "\n",
    "# Curvas representando o intervalo de desvio padrão\n",
    "ax1.plot(range(len(mediaWeekdays['time'])), mediaWeekdays['mean']+mediaWeekdays['std'], alpha=150, c='gray', label='Desvio Padrão')\n",
    "ax1.plot(range(len(mediaWeekdays['time'])), mediaWeekdays['mean']-mediaWeekdays['std'], alpha=150, c='gray')\n",
    "\n",
    "# Modificando os labels das horas e das porcentagens\n",
    "ax1.xaxis.set_ticks(np.arange(0, 1441, 120))\n",
    "ax1.yaxis.set_ticks(np.arange(0, 110, 10))\n",
    "\n",
    "fig.canvas.draw()\n",
    "\n",
    "labels = [item.get_text() for item in ax1.get_xticklabels()]\n",
    "labels = range(0,26,2)\n",
    "\n",
    "ax1.set_xticklabels(labels)\n",
    "\n",
    "# Eixo y de 0 a 100%\n",
    "ax1.set_ylim([0,100])\n",
    "\n",
    "# Legendas e label dos eixos\n",
    "ax1.legend(bbox_to_anchor=(0.01, 0.99), loc=2, borderaxespad=0.2)\n",
    "ax1.set_ylabel('Percentual')\n",
    "ax1.set_xlabel('Horário')\n",
    "\n",
    "\n",
    "\n",
    "\n",
    "# # Curva dos carros andando\n",
    "ax2.plot(range(len(mediaWeekends['time'])),mediaWeekends['mean'], label='Carros Ocupados')\n",
    "\n",
    "# # Curvas representando o intervalo de desvio padrão\n",
    "ax2.plot(range(len(mediaWeekends['time'])), mediaWeekends['mean']+mediaWeekends['std'], alpha=150, c='gray', label='Desvio Padrão')\n",
    "ax2.plot(range(len(mediaWeekends['time'])), mediaWeekends['mean']-mediaWeekends['std'], alpha=150, c='gray')\n",
    "\n",
    "# Modificando os labels das horas e das porcentagens\n",
    "ax2.xaxis.set_ticks(np.arange(0, 1441, 120))\n",
    "ax2.yaxis.set_ticks(np.arange(0, 110, 10))\n",
    "\n",
    "fig.canvas.draw()\n",
    "\n",
    "labels = [item.get_text() for item in ax2.get_xticklabels()]\n",
    "labels = range(0,26,2)\n",
    "\n",
    "ax2.set_xticklabels(labels)\n",
    "\n",
    "# Eixo y de 0 a 100%\n",
    "ax2.set_ylim([0,100])\n",
    "\n",
    "# Legendas e label dos eixos\n",
    "ax2.legend(bbox_to_anchor=(0.55, 0.99), loc=2, borderaxespad=0.1)\n",
    "ax2.set_ylabel('Percentual')\n",
    "ax2.set_xlabel('Horário')\n",
    "\n",
    "\n",
    "plt.show()\n",
    "plt.savefig('../plots/ViagensPorHoras_Evo.pdf')"
   ]
  }
 ],
 "metadata": {
  "kernelspec": {
   "display_name": "Python 3",
   "language": "python",
   "name": "python3"
  },
  "language_info": {
   "codemirror_mode": {
    "name": "ipython",
    "version": 3
   },
   "file_extension": ".py",
   "mimetype": "text/x-python",
   "name": "python",
   "nbconvert_exporter": "python",
   "pygments_lexer": "ipython3",
   "version": "3.6.1"
  }
 },
 "nbformat": 4,
 "nbformat_minor": 2
}
