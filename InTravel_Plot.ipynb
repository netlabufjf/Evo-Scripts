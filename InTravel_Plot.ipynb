{
 "cells": [
  {
   "cell_type": "code",
   "execution_count": 1,
   "metadata": {
    "collapsed": true
   },
   "outputs": [],
   "source": [
    "%matplotlib inline\n",
    "import pandas as pd\n",
    "import matplotlib\n",
    "import numpy as np\n",
    "import matplotlib.pyplot as plt\n",
    "import datetime\n",
    "import pytz"
   ]
  },
  {
   "cell_type": "code",
   "execution_count": 75,
   "metadata": {
    "collapsed": true
   },
   "outputs": [
    {
     "name": "stdout",
     "output_type": "stream",
     "text": [
      "Reading CSV...\n",
      "2018-09-01 18:18:44.094738\n",
      "2018-09-01 18:19:40.591529\n",
      "Finish\n",
      "\n"
     ]
    }
   ],
   "source": [
    "columns = ['Capture_time', 'Id']\n",
    "print('Reading CSV...')\n",
    "print(datetime.datetime.now())\n",
    "\n",
    "data = pd.read_csv('../evo_data_menor.csv', usecols=columns, nrows=30000000)\n",
    "\n",
    "print(datetime.datetime.now())\n",
    "print('Finish\\n')"
   ]
  },
  {
   "cell_type": "code",
   "execution_count": 76,
   "metadata": {},
   "outputs": [
    {
     "data": {
      "text/html": [
       "<div>\n",
       "<style>\n",
       "    .dataframe thead tr:only-child th {\n",
       "        text-align: right;\n",
       "    }\n",
       "\n",
       "    .dataframe thead th {\n",
       "        text-align: left;\n",
       "    }\n",
       "\n",
       "    .dataframe tbody tr th {\n",
       "        vertical-align: top;\n",
       "    }\n",
       "</style>\n",
       "<table border=\"1\" class=\"dataframe\">\n",
       "  <thead>\n",
       "    <tr style=\"text-align: right;\">\n",
       "      <th></th>\n",
       "      <th>Capture_time</th>\n",
       "      <th>Id</th>\n",
       "    </tr>\n",
       "  </thead>\n",
       "  <tbody>\n",
       "    <tr>\n",
       "      <th>0</th>\n",
       "      <td>2018-03-01 08:24:51.795031-08:00</td>\n",
       "      <td>JTDKDTB31J1599606</td>\n",
       "    </tr>\n",
       "    <tr>\n",
       "      <th>1</th>\n",
       "      <td>2018-03-01 08:24:51.795031-08:00</td>\n",
       "      <td>JTDKDTB31H1597557</td>\n",
       "    </tr>\n",
       "    <tr>\n",
       "      <th>2</th>\n",
       "      <td>2018-03-01 08:24:51.795031-08:00</td>\n",
       "      <td>JTDKDTB36E1079858</td>\n",
       "    </tr>\n",
       "    <tr>\n",
       "      <th>3</th>\n",
       "      <td>2018-03-01 08:24:51.795031-08:00</td>\n",
       "      <td>JTDKDTB33F1101042</td>\n",
       "    </tr>\n",
       "    <tr>\n",
       "      <th>4</th>\n",
       "      <td>2018-03-01 08:24:51.795031-08:00</td>\n",
       "      <td>JTDKDTB32G1118514</td>\n",
       "    </tr>\n",
       "  </tbody>\n",
       "</table>\n",
       "</div>"
      ],
      "text/plain": [
       "                       Capture_time                 Id\n",
       "0  2018-03-01 08:24:51.795031-08:00  JTDKDTB31J1599606\n",
       "1  2018-03-01 08:24:51.795031-08:00  JTDKDTB31H1597557\n",
       "2  2018-03-01 08:24:51.795031-08:00  JTDKDTB36E1079858\n",
       "3  2018-03-01 08:24:51.795031-08:00  JTDKDTB33F1101042\n",
       "4  2018-03-01 08:24:51.795031-08:00  JTDKDTB32G1118514"
      ]
     },
     "execution_count": 76,
     "metadata": {},
     "output_type": "execute_result"
    }
   ],
   "source": [
    "data.head()"
   ]
  },
  {
   "cell_type": "code",
   "execution_count": 77,
   "metadata": {},
   "outputs": [
    {
     "name": "stdout",
     "output_type": "stream",
     "text": [
      "Data len before remove uncommon ids: 30000000\n",
      "Data len after remove uncommon ids: 29999500\n"
     ]
    }
   ],
   "source": [
    "# Colleting vehicle ids\n",
    "car_ids = list(data.Id.unique())\n",
    "\n",
    "# Removing uncommon ids\n",
    "# Ex: 4c5865a3-4b03-40f6-a3a8-d4e94aae3b17\n",
    "ids_uncommon = [id for id in car_ids if id.find('-') != -1]\n",
    "car_ids = [id for id in car_ids if id.find('-') == -1]\n",
    "\n",
    "print('Data len before remove uncommon ids: '+str(len(data)))\n",
    "data = data[~data.Id.isin(ids_uncommon)]\n",
    "print('Data len after remove uncommon ids: '+str(len(data)))"
   ]
  },
  {
   "cell_type": "code",
   "execution_count": 3,
   "metadata": {
    "collapsed": true
   },
   "outputs": [],
   "source": [
    "def str_to_datetime(df_time):\n",
    "    \"\"\" \n",
    "    Reformatando de string para datetime.\n",
    "    \n",
    "    Parameters\n",
    "    ----------\n",
    "    df_time : pandas.DataFrame, string\n",
    "        Dataframe com strings a serem convertidas para datetime.\n",
    "    \n",
    "    Returns\n",
    "    ----------\n",
    "    date_list : pandas.DataFrame, datetime\n",
    "        Dataframe com valores em datetime para possíveis fusos de Vancouver.\n",
    "    \n",
    "    \"\"\"\n",
    "    date_list = []\n",
    "    \n",
    "    # Formatos de fuso horário comum de Vancouver e \n",
    "    # fuso horário característico de horário de verão\n",
    "    format_string = ['%Y-%m-%d %H:%M:%S.%f-08:00', '%Y-%m-%d %H:%M:%S.%f-07:00',\n",
    "                     '%Y-%m-%d %H:%M:%S-08:00', '%Y-%m-%d %H:%M:%S-07:00']\n",
    "    \n",
    "    \n",
    "    for date in df_time:\n",
    "        for fmt in format_string:\n",
    "            try:\n",
    "                date_list.append(datetime.datetime.strptime(str(date), fmt))\n",
    "                erro = False\n",
    "                break\n",
    "            except:\n",
    "                pass\n",
    "        if erro:\n",
    "            print('Erro in: '+str(date))\n",
    "            \n",
    "    \n",
    "    return pd.DataFrame(date_list)"
   ]
  },
  {
   "cell_type": "code",
   "execution_count": 79,
   "metadata": {
    "collapsed": true
   },
   "outputs": [
    {
     "name": "stdout",
     "output_type": "stream",
     "text": [
      "Date strings to Datetime type\n",
      "\n"
     ]
    }
   ],
   "source": [
    "print('Date strings to Datetime type\\n')\n",
    "data['Capture_time'] = str_to_datetime(data['Capture_time'])"
   ]
  },
  {
   "cell_type": "code",
   "execution_count": 80,
   "metadata": {
    "collapsed": true
   },
   "outputs": [
    {
     "data": {
      "text/html": [
       "<div>\n",
       "<style>\n",
       "    .dataframe thead tr:only-child th {\n",
       "        text-align: right;\n",
       "    }\n",
       "\n",
       "    .dataframe thead th {\n",
       "        text-align: left;\n",
       "    }\n",
       "\n",
       "    .dataframe tbody tr th {\n",
       "        vertical-align: top;\n",
       "    }\n",
       "</style>\n",
       "<table border=\"1\" class=\"dataframe\">\n",
       "  <thead>\n",
       "    <tr style=\"text-align: right;\">\n",
       "      <th></th>\n",
       "      <th>Capture_time</th>\n",
       "      <th>Id</th>\n",
       "    </tr>\n",
       "  </thead>\n",
       "  <tbody>\n",
       "    <tr>\n",
       "      <th>0</th>\n",
       "      <td>2018-03-01 08:24:51.795031</td>\n",
       "      <td>JTDKDTB31J1599606</td>\n",
       "    </tr>\n",
       "    <tr>\n",
       "      <th>1</th>\n",
       "      <td>2018-03-01 08:24:51.795031</td>\n",
       "      <td>JTDKDTB31H1597557</td>\n",
       "    </tr>\n",
       "    <tr>\n",
       "      <th>2</th>\n",
       "      <td>2018-03-01 08:24:51.795031</td>\n",
       "      <td>JTDKDTB36E1079858</td>\n",
       "    </tr>\n",
       "    <tr>\n",
       "      <th>3</th>\n",
       "      <td>2018-03-01 08:24:51.795031</td>\n",
       "      <td>JTDKDTB33F1101042</td>\n",
       "    </tr>\n",
       "    <tr>\n",
       "      <th>4</th>\n",
       "      <td>2018-03-01 08:24:51.795031</td>\n",
       "      <td>JTDKDTB32G1118514</td>\n",
       "    </tr>\n",
       "  </tbody>\n",
       "</table>\n",
       "</div>"
      ],
      "text/plain": [
       "                Capture_time                 Id\n",
       "0 2018-03-01 08:24:51.795031  JTDKDTB31J1599606\n",
       "1 2018-03-01 08:24:51.795031  JTDKDTB31H1597557\n",
       "2 2018-03-01 08:24:51.795031  JTDKDTB36E1079858\n",
       "3 2018-03-01 08:24:51.795031  JTDKDTB33F1101042\n",
       "4 2018-03-01 08:24:51.795031  JTDKDTB32G1118514"
      ]
     },
     "execution_count": 80,
     "metadata": {},
     "output_type": "execute_result"
    }
   ],
   "source": [
    "data.head()"
   ]
  },
  {
   "cell_type": "code",
   "execution_count": 85,
   "metadata": {},
   "outputs": [
    {
     "name": "stdout",
     "output_type": "stream",
     "text": [
      "2018-09-01 19:47:15.618899\n"
     ]
    }
   ],
   "source": [
    "print(datetime.datetime.now())\n",
    "\n",
    "data = data.sort_values(by='Capture_time')\n",
    "# Series with each collected minute\n",
    "dates = pd.Series(data.Capture_time.unique())\n",
    "busy_weekdays = []\n",
    "busy_weekends = []\n",
    "\n",
    "# Going through each date in order to count the number of cars in travel.\n",
    "for dt in dates:\n",
    "    parked = len(data[data['Capture_time'] == dt])\n",
    "    in_travel = len(car_ids) - parked\n",
    "    percentage = (in_travel/len(car_ids))*100\n",
    "    \n",
    "    # Sorting out per week day\n",
    "    if dt.weekday() <= 4: # Monday == 0 .. Sunday == 6\n",
    "        busy_weekdays.append([int(dt.timestamp()), in_travel, percentage])\n",
    "    else: \n",
    "        busy_weekends.append([int(dt.timestamp()), in_travel, percentage])\n",
    "        \n",
    "\n",
    "dfIn_Travel_weekdays = pd.DataFrame(busy_weekdays, columns=['capture_time', 'total_in_travel', 'percentage'])\n",
    "dfIn_Travel_weekends = pd.DataFrame(busy_weekends, columns=['capture_time', 'total_in_travel', 'percentage'])\n",
    "\n",
    "print(datetime.datetime.now())"
   ]
  },
  {
   "cell_type": "code",
   "execution_count": 4,
   "metadata": {
    "collapsed": true
   },
   "outputs": [],
   "source": [
    "def from_timestamp_list(timestamp_list):\n",
    "    \n",
    "    datetime_list = []\n",
    "    \n",
    "    for date in timestamp_list:\n",
    "        datetime_list.append(datetime.datetime.fromtimestamp(int(date)))\n",
    "    \n",
    "    return pd.DataFrame(datetime_list)"
   ]
  },
  {
   "cell_type": "code",
   "execution_count": 73,
   "metadata": {
    "collapsed": true
   },
   "outputs": [],
   "source": [
    "# Formatando os dados de unix timestamp para datetime\n",
    "\n",
    "dfWeekdays = dfIn_Travel_weekdays\n",
    "\n",
    "dfWeekdays['capture_time'] = from_timestamp_list(dfWeekdays['capture_time'])    \n",
    "    \n",
    "    \n",
    "dfWeekends = dfIn_Travel_weekends\n",
    "\n",
    "dfWeekends['capture_time'] = from_timestamp_list(dfWeekends['capture_time'])"
   ]
  },
  {
   "cell_type": "code",
   "execution_count": null,
   "metadata": {},
   "outputs": [],
   "source": [
    "# Plot da porcentagem de carros alocados em dias de semana\n",
    "plt.plot(dfWeekdays['capture_time'],dfWeekdays['percentage'])\n",
    "plt.gcf().autofmt_xdate()\n",
    "plt.show()"
   ]
  },
  {
   "cell_type": "code",
   "execution_count": null,
   "metadata": {},
   "outputs": [],
   "source": [
    "# Plot da porcentagem de carros alocados em dias de final de semana\n",
    "plt.plot(dfWeekends['capture_time'],dfWeekends['percentage'])\n",
    "plt.gcf().autofmt_xdate()\n",
    "plt.show()"
   ]
  },
  {
   "cell_type": "code",
   "execution_count": 13,
   "metadata": {
    "collapsed": true
   },
   "outputs": [],
   "source": [
    "dfWeekends.to_csv('weekends.csv', index=False, encoding='utf-8')\n",
    "dfWeekdays.to_csv('weekdays.csv', index=False, encoding='utf-8')"
   ]
  },
  {
   "cell_type": "code",
   "execution_count": 6,
   "metadata": {
    "collapsed": true
   },
   "outputs": [],
   "source": [
    "dfWeekdays = pd.read_csv('../evo-plots/weekdays.csv')\n",
    "dfWeekends = pd.read_csv('../evo-plots/weekends.csv')"
   ]
  },
  {
   "cell_type": "code",
   "execution_count": 16,
   "metadata": {},
   "outputs": [],
   "source": [
    "# Debug\n",
    "dfWeekdays.capture_time = pd.to_datetime(dfWeekdays.capture_time)\n",
    "dfWeekdays['minute'] = dfWeekdays.capture_time.dt.minute\n",
    "dfWeekdays['hour'] = dfWeekdays.capture_time.dt.hour"
   ]
  },
  {
   "cell_type": "code",
   "execution_count": 19,
   "metadata": {},
   "outputs": [
    {
     "data": {
      "text/html": [
       "<div>\n",
       "<style>\n",
       "    .dataframe thead tr:only-child th {\n",
       "        text-align: right;\n",
       "    }\n",
       "\n",
       "    .dataframe thead th {\n",
       "        text-align: left;\n",
       "    }\n",
       "\n",
       "    .dataframe tbody tr th {\n",
       "        vertical-align: top;\n",
       "    }\n",
       "</style>\n",
       "<table border=\"1\" class=\"dataframe\">\n",
       "  <thead>\n",
       "    <tr style=\"text-align: right;\">\n",
       "      <th></th>\n",
       "      <th>total_in_travel</th>\n",
       "      <th>percentage</th>\n",
       "      <th>minute</th>\n",
       "      <th>hour</th>\n",
       "    </tr>\n",
       "  </thead>\n",
       "  <tbody>\n",
       "    <tr>\n",
       "      <th>count</th>\n",
       "      <td>109.000000</td>\n",
       "      <td>109.000000</td>\n",
       "      <td>109.0</td>\n",
       "      <td>109.0</td>\n",
       "    </tr>\n",
       "    <tr>\n",
       "      <th>mean</th>\n",
       "      <td>352.532110</td>\n",
       "      <td>28.023220</td>\n",
       "      <td>32.0</td>\n",
       "      <td>10.0</td>\n",
       "    </tr>\n",
       "    <tr>\n",
       "      <th>std</th>\n",
       "      <td>30.630283</td>\n",
       "      <td>2.434840</td>\n",
       "      <td>0.0</td>\n",
       "      <td>0.0</td>\n",
       "    </tr>\n",
       "    <tr>\n",
       "      <th>min</th>\n",
       "      <td>283.000000</td>\n",
       "      <td>22.496025</td>\n",
       "      <td>32.0</td>\n",
       "      <td>10.0</td>\n",
       "    </tr>\n",
       "    <tr>\n",
       "      <th>25%</th>\n",
       "      <td>331.000000</td>\n",
       "      <td>26.311606</td>\n",
       "      <td>32.0</td>\n",
       "      <td>10.0</td>\n",
       "    </tr>\n",
       "    <tr>\n",
       "      <th>50%</th>\n",
       "      <td>351.000000</td>\n",
       "      <td>27.901431</td>\n",
       "      <td>32.0</td>\n",
       "      <td>10.0</td>\n",
       "    </tr>\n",
       "    <tr>\n",
       "      <th>75%</th>\n",
       "      <td>373.000000</td>\n",
       "      <td>29.650238</td>\n",
       "      <td>32.0</td>\n",
       "      <td>10.0</td>\n",
       "    </tr>\n",
       "    <tr>\n",
       "      <th>max</th>\n",
       "      <td>430.000000</td>\n",
       "      <td>34.181240</td>\n",
       "      <td>32.0</td>\n",
       "      <td>10.0</td>\n",
       "    </tr>\n",
       "  </tbody>\n",
       "</table>\n",
       "</div>"
      ],
      "text/plain": [
       "       total_in_travel  percentage  minute   hour\n",
       "count       109.000000  109.000000   109.0  109.0\n",
       "mean        352.532110   28.023220    32.0   10.0\n",
       "std          30.630283    2.434840     0.0    0.0\n",
       "min         283.000000   22.496025    32.0   10.0\n",
       "25%         331.000000   26.311606    32.0   10.0\n",
       "50%         351.000000   27.901431    32.0   10.0\n",
       "75%         373.000000   29.650238    32.0   10.0\n",
       "max         430.000000   34.181240    32.0   10.0"
      ]
     },
     "execution_count": 19,
     "metadata": {},
     "output_type": "execute_result"
    }
   ],
   "source": [
    "# Outlier importante a ser verificado\n",
    "dfWeekdays[(dfWeekdays.hour == 10) & (dfWeekdays.minute == 32)].describe()"
   ]
  },
  {
   "cell_type": "code",
   "execution_count": 7,
   "metadata": {
    "collapsed": true,
    "scrolled": true
   },
   "outputs": [],
   "source": [
    "dfWeekdays['capture_time'] = pd.to_datetime(dfWeekdays['capture_time'])\n",
    "dfWeekends['capture_time'] = pd.to_datetime(dfWeekends['capture_time'])"
   ]
  },
  {
   "cell_type": "code",
   "execution_count": 8,
   "metadata": {
    "collapsed": true
   },
   "outputs": [],
   "source": [
    "def media(df): \n",
    "    \"\"\"\n",
    "    Faz a media das porcentagens minuto a minuto de todo o dataset.\n",
    "    \n",
    "    Parameters\n",
    "    ------------\n",
    "    df : Pandas dataframe\n",
    "        Dados a serem analisados, com uma coluna dos horários e outra com as porcentagens.\n",
    "    \n",
    "    Returns\n",
    "    ----------\n",
    "    media : Pandas dataframe\n",
    "        Dados com a média das porcentagens para 24 horas.\n",
    "    \n",
    "    \"\"\"\n",
    "    minute = []\n",
    "\n",
    "    # Criando uma coluna que irá sinalizar a quantidade de minutos corridos até tal registro\n",
    "    df['minute'] = df.capture_time.dt.minute + (df.capture_time.dt.hour * 60)\n",
    "    \n",
    "    # Ordenando o dataset por minutos corridos para facilitar a soma de valores\n",
    "    df = df.sort_values(by=['minute', 'capture_time'])\n",
    "    \n",
    "    min_list = list(df['minute'].unique())\n",
    "    media = []\n",
    "    # É percorrido minuto a minuto para se obter a média de porcentagem para cada\n",
    "    # Assim é formado um dataframe com média de utilização a cada minuto\n",
    "    for min in min_list:\n",
    "\n",
    "        occurencies = df[df.minute == min]\n",
    "    \n",
    "        media.append([occurencies.capture_time.iloc[0].strftime('%H:%M'), \n",
    "                      float(occurencies.percentage.mean()), \n",
    "                      float(occurencies.percentage.std())])\n",
    "    \n",
    "\n",
    "    media = pd.DataFrame(media, columns=['time', 'mean', 'std'])\n",
    "    \n",
    "    return media"
   ]
  },
  {
   "cell_type": "code",
   "execution_count": 9,
   "metadata": {
    "scrolled": true
   },
   "outputs": [
    {
     "name": "stdout",
     "output_type": "stream",
     "text": [
      "Media\n",
      "2018-11-12 19:53:56.062274\n",
      "2018-11-12 19:53:58.992280\n"
     ]
    }
   ],
   "source": [
    "# Fazendo a média das porcentagens de cada dia\n",
    "print('Media')\n",
    "print(datetime.datetime.now())\n",
    "\n",
    "dfWeekdays = dfWeekdays.sort_values(by='capture_time')\n",
    "mediaWeekdays = media(dfWeekdays)\n",
    "\n",
    "dfWeekends = dfWeekends.sort_values(by='capture_time')\n",
    "mediaWeekends = media(dfWeekends)\n",
    "print(datetime.datetime.now())"
   ]
  },
  {
   "cell_type": "code",
   "execution_count": 14,
   "metadata": {
    "collapsed": true
   },
   "outputs": [],
   "source": [
    "mediaWeekdays.to_csv('../evo-plots/mediaWeekdays.csv', index=False, encoding='utf-8')\n",
    "mediaWeekends.to_csv('../evo-plots/mediaWeekends.csv', index=False, encoding='utf-8')"
   ]
  },
  {
   "cell_type": "code",
   "execution_count": 15,
   "metadata": {
    "collapsed": true
   },
   "outputs": [],
   "source": [
    "mediaWeekdays = pd.read_csv('../evo-plots/mediaWeekdays.csv')\n",
    "mediaWeekends = pd.read_csv('../evo-plots/mediaWeekends.csv')"
   ]
  },
  {
   "cell_type": "code",
   "execution_count": 13,
   "metadata": {},
   "outputs": [
    {
     "data": {
      "image/png": "[encoded data removed]",
      "text/plain": [
       "<Figure size 432x288 with 1 Axes>"
      ]
     },
     "metadata": {},
     "output_type": "display_data"
    }
   ],
   "source": [
    "\n",
    "# Plot da media das porcentagens dos dias de semana\n",
    "fig, ax = plt.subplots()\n",
    "# Curva dos carros andando\n",
    "ax.plot(range(len(mediaWeekdays['time'])),mediaWeekdays['mean'], label='Busy Cars')\n",
    "\n",
    "# Curvas representando o intervalo de desvio padrão\n",
    "# ax.plot(range(len(mediaWeekdays['time'])), mediaWeekdays['mean']+mediaWeekdays['std'], alpha=150, c='gray', label='Desvio Padrão')\n",
    "# ax.plot(range(len(mediaWeekdays['time'])), mediaWeekdays['mean']-mediaWeekdays['std'], alpha=150, c='gray')\n",
    "\n",
    "ax.fill_between(range(len(mediaWeekdays['time'])),mediaWeekdays['mean']+mediaWeekdays['std'], \n",
    "                mediaWeekdays['mean']-mediaWeekdays['std'], facecolor='#8faee0', alpha=0.6)\n",
    "\n",
    "# Modificando os labels das horas\n",
    "ax.xaxis.set_ticks(np.arange(0, 1441, 120))\n",
    "\n",
    "fig.canvas.draw()\n",
    "\n",
    "labels = [item.get_text() for item in ax.get_xticklabels()]\n",
    "labels = range(0,26,2)\n",
    "\n",
    "ax.set_xticklabels(labels)\n",
    "\n",
    "# Y axis between 0%-100%\n",
    "ax.set_ylim([0,100])\n",
    "\n",
    "ax.set_xlim([0,1441])\n",
    "\n",
    "# Legendas e label dos eixos\n",
    "plt.legend(loc=2, borderaxespad=0.2, frameon=False)\n",
    "plt.ylabel('Percentage')\n",
    "plt.xlabel('Hour')\n",
    "\n",
    "# Salvando o plot\n",
    "plt.savefig('../Weekdays.pdf', bbox_inches='tight')\n",
    "\n",
    "plt.show()"
   ]
  },
  {
   "cell_type": "code",
   "execution_count": 12,
   "metadata": {
    "scrolled": true
   },
   "outputs": [
    {
     "data": {
      "image/png": "[encoded data removed]",
      "text/plain": [
       "<Figure size 432x288 with 1 Axes>"
      ]
     },
     "metadata": {},
     "output_type": "display_data"
    }
   ],
   "source": [
    "\n",
    "# Plot da media das porcentagens dos dias de semana\n",
    "fig, ax = plt.subplots()\n",
    "# Curva dos carros andando\n",
    "ax.plot(range(len(mediaWeekends['time'])),mediaWeekends['mean'], label='Busy Cars')\n",
    "\n",
    "# Curvas representando o intervalo de desvio padrão\n",
    "# ax.plot(range(len(mediaWeekends['time'])), mediaWeekends['mean']+mediaWeekends['std'], alpha=150, c='gray', label='Desvio Padrão')\n",
    "# ax.plot(range(len(mediaWeekends['time'])), mediaWeekends['mean']-mediaWeekends['std'], alpha=150, c='gray')\n",
    "\n",
    "ax.fill_between(range(len(mediaWeekends['time'])),mediaWeekends['mean']+mediaWeekends['std'], \n",
    "                mediaWeekends['mean']-mediaWeekends['std'], facecolor='#8faee0', alpha=0.6)\n",
    "\n",
    "# Modificando os labels das horas\n",
    "ax.xaxis.set_ticks(np.arange(0, 1441, 120))\n",
    "\n",
    "fig.canvas.draw()\n",
    "\n",
    "labels = [item.get_text() for item in ax.get_xticklabels()]\n",
    "labels = range(0,26,2)\n",
    "\n",
    "ax.set_xticklabels(labels)\n",
    "\n",
    "# Y axis between 0%-100%\n",
    "ax.set_ylim([0,100])\n",
    "\n",
    "ax.set_xlim([0,1441])\n",
    "\n",
    "# Legendas e label dos eixos\n",
    "plt.legend(loc=2, borderaxespad=0.2, frameon=False)\n",
    "plt.ylabel('Percentage')\n",
    "plt.xlabel('Hour')\n",
    "\n",
    "# Salvando o plot\n",
    "plt.savefig('../Weekends.pdf', bbox_inches='tight')\n",
    "\n",
    "plt.show()"
   ]
  },
  {
   "cell_type": "code",
   "execution_count": 16,
   "metadata": {},
   "outputs": [
    {
     "data": {
      "image/png": "[encoded data removed]",
      "text/plain": [
       "<Figure size 1008x324 with 2 Axes>"
      ]
     },
     "metadata": {},
     "output_type": "display_data"
    },
    {
     "data": {
      "text/plain": [
       "<Figure size 432x288 with 0 Axes>"
      ]
     },
     "metadata": {},
     "output_type": "display_data"
    }
   ],
   "source": [
    "\n",
    "matplotlib.rc('font', size=12)\n",
    "\n",
    "# Plot das porcentagens dos fins de semana\n",
    "fig, (ax1, ax2) = plt.subplots(1, 2)\n",
    "\n",
    "fig.set_size_inches(14,4.5)\n",
    "\n",
    "\n",
    "\n",
    "# Curva dos carros andando\n",
    "\n",
    "ax1.plot(range(len(mediaWeekdays['time'])),mediaWeekdays['mean'], label='Carros Ocupados')\n",
    "\n",
    "# Curvas representando o intervalo de desvio padrão\n",
    "ax1.plot(range(len(mediaWeekdays['time'])), mediaWeekdays['mean']+mediaWeekdays['std'], alpha=150, c='gray', label='Desvio Padrão')\n",
    "ax1.plot(range(len(mediaWeekdays['time'])), mediaWeekdays['mean']-mediaWeekdays['std'], alpha=150, c='gray')\n",
    "\n",
    "# Modificando os labels das horas e das porcentagens\n",
    "ax1.xaxis.set_ticks(np.arange(0, 1441, 120))\n",
    "ax1.yaxis.set_ticks(np.arange(0, 110, 10))\n",
    "\n",
    "fig.canvas.draw()\n",
    "\n",
    "labels = [item.get_text() for item in ax1.get_xticklabels()]\n",
    "labels = range(0,26,2)\n",
    "\n",
    "ax1.set_xticklabels(labels)\n",
    "\n",
    "# Eixo y de 0 a 100%\n",
    "ax1.set_ylim([0,100])\n",
    "\n",
    "# Legendas e label dos eixos\n",
    "ax1.legend(bbox_to_anchor=(0.01, 0.99), loc=2, borderaxespad=0.2)\n",
    "ax1.set_ylabel('Percentual')\n",
    "ax1.set_xlabel('Horário')\n",
    "\n",
    "\n",
    "\n",
    "\n",
    "# # Curva dos carros andando\n",
    "ax2.plot(range(len(mediaWeekends['time'])),mediaWeekends['mean'], label='Carros Ocupados')\n",
    "\n",
    "# # Curvas representando o intervalo de desvio padrão\n",
    "ax2.plot(range(len(mediaWeekends['time'])), mediaWeekends['mean']+mediaWeekends['std'], alpha=150, c='gray', label='Desvio Padrão')\n",
    "ax2.plot(range(len(mediaWeekends['time'])), mediaWeekends['mean']-mediaWeekends['std'], alpha=150, c='gray')\n",
    "\n",
    "# Modificando os labels das horas e das porcentagens\n",
    "ax2.xaxis.set_ticks(np.arange(0, 1441, 120))\n",
    "ax2.yaxis.set_ticks(np.arange(0, 110, 10))\n",
    "\n",
    "fig.canvas.draw()\n",
    "\n",
    "labels = [item.get_text() for item in ax2.get_xticklabels()]\n",
    "labels = range(0,26,2)\n",
    "\n",
    "ax2.set_xticklabels(labels)\n",
    "\n",
    "# Eixo y de 0 a 100%\n",
    "ax2.set_ylim([0,100])\n",
    "\n",
    "# Legendas e label dos eixos\n",
    "ax2.legend(bbox_to_anchor=(0.55, 0.99), loc=2, borderaxespad=0.1)\n",
    "ax2.set_ylabel('Percentual')\n",
    "ax2.set_xlabel('Horário')\n",
    "\n",
    "\n",
    "plt.show()\n",
    "plt.savefig('../plots/ViagensPorHoras_Evo.pdf')"
   ]
  }
 ],
 "metadata": {
  "kernelspec": {
   "display_name": "Python 3",
   "language": "python",
   "name": "python3"
  },
  "language_info": {
   "codemirror_mode": {
    "name": "ipython",
    "version": 3
   },
   "file_extension": ".py",
   "mimetype": "text/x-python",
   "name": "python",
   "nbconvert_exporter": "python",
   "pygments_lexer": "ipython3",
   "version": "3.6.1"
  }
 },
 "nbformat": 4,
 "nbformat_minor": 2
}
