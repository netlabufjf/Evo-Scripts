{
 "cells": [
  {
   "cell_type": "code",
   "execution_count": null,
   "metadata": {
    "collapsed": true
   },
   "outputs": [],
   "source": [
    "from urllib.request import urlopen\n",
    "import json\n",
    "import pandas as pd\n",
    "\n",
    "KEYs = ['key1', 'key2', 'key3', 'key4', 'key5', 'key6']\n",
    "key_index = 0"
   ]
  },
  {
   "cell_type": "code",
   "execution_count": null,
   "metadata": {
    "collapsed": true
   },
   "outputs": [],
   "source": [
    "from os.path import exists\n",
    "\n",
    "# Lendo csv com os dados do minuto anterior para fins de comparação\n",
    "if (exists('evo_last_data.csv')):\n",
    "    df_ant = pd.read_csv('evo_last_data.csv')\n",
    "    # Evita acumulação de veículos desaparecidos repetidamente\n",
    "    df_ant = df_ant[df_ant['Status_tag'] != 'start']"
   ]
  },
  {
   "cell_type": "code",
   "execution_count": null,
   "metadata": {
    "collapsed": true
   },
   "outputs": [],
   "source": [
    "try:\n",
    "    i = 0\n",
    "    response = None\n",
    "    # Loop para evitar erros de requisições demoradas\n",
    "    while (response == None and i < 5):\n",
    "        # Fazendo uma requisição a api da evo e formantando como json\n",
    "        response = urlopen('https://www.evo.ca/api/Cars.aspx', timeout=20).read().decode('UTF-8')\n",
    "        i += 1\n",
    "except Exception as e:\n",
    "    print('Erro na requisição base: ' + str(e))\n",
    "    return\n",
    "\n",
    "if (response == None):\n",
    "    return\n",
    "\n",
    "json_data = json.loads(response)\n",
    "\n",
    "# Colocando os dados em um dataframe\n",
    "df_atual = pd.DataFrame.from_dict(json_data['data'])"
   ]
  },
  {
   "cell_type": "markdown",
   "metadata": {},
   "source": [
    "## Adicionando a hora da coleta"
   ]
  },
  {
   "cell_type": "code",
   "execution_count": null,
   "metadata": {
    "collapsed": true,
    "scrolled": true
   },
   "outputs": [],
   "source": [
    "# Obtendo a hora em que foi coletado\n",
    "\n",
    "import datetime as dt\n",
    "import pytz\n",
    "\n",
    "# Coletando a hora atual de vancouver\n",
    "vanc_tz = pytz.timezone('America/Vancouver')\n",
    "time = dt.datetime.now(tz=vanc_tz)\n",
    "\n",
    "cap_time = []\n",
    "\n",
    "for i in range(len(df_atual)):\n",
    "    cap_time.append(time)\n",
    "    \n",
    "cap_time = pd.DataFrame(cap_time, columns=['Capture_time'])\n",
    "\n",
    "df_atual = pd.concat([cap_time, df_atual], axis=1)"
   ]
  },
  {
   "cell_type": "markdown",
   "metadata": {},
   "source": [
    "## Adicionando tags de estado"
   ]
  },
  {
   "cell_type": "code",
   "execution_count": null,
   "metadata": {
    "collapsed": true,
    "scrolled": true
   },
   "outputs": [],
   "source": [
    "# Adicionando um coluna para informar o status do veículo como parked, start ou end\n",
    "# a fim de analisar o tempo de viagem\n",
    "status_tag = []\n",
    "\n",
    "for i in range(len(df_atual)):\n",
    "    status_tag.append('parked')\n",
    "    \n",
    "status_tag = pd.DataFrame(status_tag, columns=['Status_tag'])\n",
    "\n",
    "df_atual = pd.concat([df_atual, status_tag], axis=1)"
   ]
  },
  {
   "cell_type": "code",
   "execution_count": null,
   "metadata": {
    "collapsed": true
   },
   "outputs": [],
   "source": [
    "# A primeira execução não tem ainda o df_ant\n",
    "if (exists('evo_last_data.csv')):\n",
    "    for i in range(len(df_ant)):\n",
    "        # Se um carro que estava registrado no minuto anterior sumiu, ele iniciou uma viagem\n",
    "        if (df_ant['Id'].iloc[i] not in df_atual['Id'].values):\n",
    "        \n",
    "            missed_car = df_ant.iloc[i]\n",
    "            \n",
    "            # Erro ocasionado pelo fato de que a primeira execução não detém da coluna Status tag\n",
    "            try:\n",
    "                missed_car['Status_tag'] = 'start'\n",
    "                missed_car['Capture_time'] = time\n",
    "            except:        \n",
    "                # Criando uma nova series para ser adicionada ao fim do dataframe atual\n",
    "                missed_car = pd.concat([missed_car, pd.Series(['start'], dtype=str)], axis=0)\n",
    "                missed_car.rename(index={0 : 'Status_tag'}, inplace=True)\n",
    "\n",
    "            df_atual = df_atual.append(missed_car, ignore_index=True)\n",
    "\n",
    "    for i in range(len(df_atual)):\n",
    "        # Se um carro não estava registrado no minuto anterior e está no atual, então ele terminou uma viagem\n",
    "        if (df_atual['Id'].iloc[i] not in df_ant['Id'].values):\n",
    "            df_atual['Status_tag'].iloc[i] = 'end'\n",
    "else:\n",
    "    pass"
   ]
  },
  {
   "cell_type": "code",
   "execution_count": null,
   "metadata": {
    "collapsed": true
   },
   "outputs": [],
   "source": [
    "# Verificando se já existe o arquivo, evita a repetição dos labels das colunas\n",
    "# Atualiza o csv de acumulo de dados e salva um para comparação como minuto anterior\n",
    "if (exists('evo_data.csv')):\n",
    "    df_atual.to_csv('evo_data.csv', mode='a', header=False, index=False, encoding='utf-8')\n",
    "    df_atual.to_csv('evo_last_data.csv', index=False, encoding='utf-8')\n",
    "else:\n",
    "    df_atual.to_csv('evo_data.csv', index=False, encoding='utf-8')\n",
    "    df_atual.to_csv('evo_last_data.csv', index=False, encoding='utf-8')"
   ]
  },
  {
   "cell_type": "markdown",
   "metadata": {},
   "source": [
    "# Coletando o tempo de trajeto Google API e real"
   ]
  },
  {
   "cell_type": "code",
   "execution_count": null,
   "metadata": {
    "collapsed": true,
    "scrolled": false
   },
   "outputs": [],
   "source": [
    "aux_missed = df_atual[df_atual['Status_tag'] == 'start']\n",
    "\n",
    "# Lendo csv com dados dos carros que iniciaram viagens desde o minuto anterior\n",
    "if (exists('missed_cars.csv')):\n",
    "    df_missed = pd.read_csv('missed_cars.csv')\n",
    "    \n",
    "    if (len(aux_missed) > 0):\n",
    "        # Atualizando os dados com os carros perdidos do minuto atual\n",
    "        df_missed = pd.concat([df_missed, aux_missed], axis=0)\n",
    "    \n",
    "    # consertando os indices\n",
    "    df_missed.index = range(len(df_missed))\n",
    "\n",
    "elif (len(aux_missed) > 0):\n",
    "    aux_missed.to_csv('missed_cars.csv', index=False, encoding='utf-8')\n",
    "    df_missed = aux_missed\n",
    "    \n",
    "    # consertando os indices\n",
    "    df_missed.index = range(len(df_missed))"
   ]
  },
  {
   "cell_type": "code",
   "execution_count": null,
   "metadata": {
    "collapsed": true
   },
   "outputs": [],
   "source": [
    "# Veículos que terminaram a sua viagem no minuto atual\n",
    "df_end = df_atual[df_atual['Status_tag'] == 'end']"
   ]
  },
  {
   "cell_type": "code",
   "execution_count": null,
   "metadata": {
    "collapsed": true
   },
   "outputs": [],
   "source": [
    "# Faz a diferença entre duas horas dadas e retorna em minutos\n",
    "def Hour_Diff(h1,h2):\n",
    "    h1Aux = dt.datetime.strptime(h1,\"%Y-%m-%d %H:%M:%S.%f-08:00\")\n",
    "    h2Aux = dt.datetime.strptime(h2,\"%Y-%m-%d %H:%M:%S.%f-08:00\")\n",
    "    diff = abs((h1Aux - h2Aux)).total_seconds()/60\n",
    "    \n",
    "    return diff"
   ]
  },
  {
   "cell_type": "code",
   "execution_count": null,
   "metadata": {
    "collapsed": true
   },
   "outputs": [],
   "source": [
    "# Só analisa os tempos de viagem se encontrar algum veículo que terminou a viagem\n",
    "try:\n",
    "    if (len(df_end) > 0):     \n",
    "        i = 0\n",
    "        while (i < len(df_missed)):\n",
    "            if (df_missed['Id'].iloc[i] in df_end['Id'].values):\n",
    "                \n",
    "                start = df_missed.iloc[i]\n",
    "                end = df_end[df_end['Id'] == df_missed['Id'].iloc[i]]\n",
    "                end_lat = str(end.get_value(index=end.index[0], col='Lat'))\n",
    "                end_lon = str(end.get_value(index=end.index[0], col='Lon'))\n",
    "                end_time = str(end.get_value(index=end.index[0], col='Capture_time'))\n",
    "                end_fuel = int(end.get_value(index=end.index[0], col='Fuel'))\n",
    "\n",
    "                \n",
    "                test = True\n",
    "                maps_time = None\n",
    "                \n",
    "                # Evita requisições desnecessárias de carros que retornam ao mesmo ponto\n",
    "                if (str(start['Lat']) == end_lat and str(start['Lon']) == end_lon):\n",
    "                    maps_time = 0\n",
    "                    test = False\n",
    "                \n",
    "                # Loop para trocar keys assim que acabar o limite de requisições de cada key\n",
    "                while(test and key_index < len(KEYs)):\n",
    "                    try:\n",
    "                        # Requisição a Google API para tirar o tempo usual de trajeto\n",
    "                        maps_req = urlopen('https://maps.googleapis.com/maps/api/distancematrix/json?units=metric&origins='+str(start['Lat'])+','+str(start['Lon'])+\n",
    "                                            '&destinations='+end_lat+','+end_lon+'&key='+KEYs[key_index]).read().decode('UTF-8')\n",
    "                        \n",
    "                        json_maps = json.loads(maps_req)\n",
    "                        \n",
    "                        # Dividindo por 60 para ter o tempo em minutos\n",
    "                        maps_time = float(json_maps['rows'][0]['elements'][0]['duration']['value'])/60\n",
    "                        \n",
    "                        test = False\n",
    "                    except Exception as e:\n",
    "                        print(str(e) + ' index key: ' + str(key_index))\n",
    "                        key_index += 1\n",
    "                        test = True\n",
    "                \n",
    "                # Analise do limite de keys e se a api retornou algum valor válido\n",
    "                if (key_index == len(KEYs)):\n",
    "                    print('Terminou as keys')\n",
    "                if (maps_time == None):\n",
    "                    print('Erro na requisição do maps')\n",
    "                    continue\n",
    "\n",
    "                # Fazendo o tempo de duração efetuado pelo motorista\n",
    "                real_time = Hour_Diff(start['Capture_time'], end_time)\n",
    "\n",
    "                data = [{'Start_time' : start['Capture_time'], 'End_time' : end_time, 'Id' : start['Id'],\n",
    "                        'Start_lat' : start['Lat'], 'Start_lon' : start['Lon'], 'End_lat' : end_lat,\n",
    "                        'End_lon' : end_lon, 'Maps_duration' : maps_time, 'Real_duration' : real_time,\n",
    "                        'Fuel_start' : start['Fuel'], 'Fuel_end': end_fuel}]\n",
    "\n",
    "                try:\n",
    "                    df_travels = df_travels.append(data, ignore_index=True)\n",
    "                except:\n",
    "                    df_travels = pd.DataFrame(data, index=[0])\n",
    "                \n",
    "                # Reorganizando as colunas\n",
    "                df_travels = df_travels[['Start_time', 'End_time', 'Id', 'Start_lat', 'Start_lon', 'End_lat',\n",
    "                                         'End_lon', 'Maps_duration', 'Real_duration', 'Fuel_start', 'Fuel_end']]\n",
    "\n",
    "                # Retira do data frame o carro encontrado e conserta o indice\n",
    "                df_missed = df_missed.drop([i])\n",
    "                df_missed.index = range(len(df_missed))\n",
    "                i -= 1\n",
    "            \n",
    "            # passo do loop\n",
    "            i += 1\n",
    "        \n",
    "        \n",
    "except Exception as e:\n",
    "    print('Missed Loop: '+str(e))\n",
    "    pass\n",
    "    "
   ]
  },
  {
   "cell_type": "code",
   "execution_count": null,
   "metadata": {
    "collapsed": true
   },
   "outputs": [],
   "source": [
    "# Salvando o registro de viagens\n",
    "try:\n",
    "    if (exists('travels.csv')):\n",
    "        df_travels.to_csv('travels.csv', mode='a', header=False, index=False, encoding='utf-8')\n",
    "    else:\n",
    "        df_travels.to_csv('travels.csv', index=False, encoding='utf-8')\n",
    "except Exception as e:\n",
    "    print('Nao encontrou viagens: '+str(e))"
   ]
  },
  {
   "cell_type": "code",
   "execution_count": null,
   "metadata": {
    "collapsed": true
   },
   "outputs": [],
   "source": [
    "# Salvando os veículos que ainda estão em viagem\n",
    "try:\n",
    "    if (exists('missed_cars.csv') and len(df_missed) > 0):\n",
    "        df_missed.to_csv('missed_cars.csv', index=False, encoding='utf-8')\n",
    "except Exception as e:\n",
    "    print('Missed save: ' + str(e))\n",
    "    pass"
   ]
  },
  {
   "cell_type": "code",
   "execution_count": null,
   "metadata": {
    "collapsed": true
   },
   "outputs": [],
   "source": []
  }
 ],
 "metadata": {
  "kernelspec": {
   "display_name": "Python 3",
   "language": "python",
   "name": "python3"
  },
  "language_info": {
   "codemirror_mode": {
    "name": "ipython",
    "version": 3
   },
   "file_extension": ".py",
   "mimetype": "text/x-python",
   "name": "python",
   "nbconvert_exporter": "python",
   "pygments_lexer": "ipython3",
   "version": "3.6.1"
  }
 },
 "nbformat": 4,
 "nbformat_minor": 2
}
